{
 "cells": [
  {
   "cell_type": "markdown",
   "id": "7a5e278c",
   "metadata": {},
   "source": [
    "# Lesson 3: Federated LLM Fine-tuning"
   ]
  },
  {
   "cell_type": "markdown",
   "id": "ffab775e",
   "metadata": {},
   "source": [
    "Welcome to Lesson 3!\n",
    "\n",
    "To access the `requirements.txt` and `utils` files for this course, go to `File` and click `Open`."
   ]
  },
  {
   "cell_type": "markdown",
   "id": "5aae51e7",
   "metadata": {},
   "source": [
    "#### 1. Import packages and utilities"
   ]
  },
  {
   "cell_type": "code",
   "execution_count": 2,
   "id": "1d457c02-b6e8-4721-b5d8-a866517d8a0c",
   "metadata": {
    "height": 251
   },
   "outputs": [],
   "source": [
    "import warnings\n",
    "warnings.filterwarnings(\"ignore\", category=UserWarning)\n",
    "warnings.filterwarnings(\"ignore\", category=FutureWarning)\n",
    "import flwr as fl\n",
    "from flwr_datasets import FederatedDataset\n",
    "from flwr_datasets.partitioner import IidPartitioner\n",
    "from datasets import load_dataset\n",
    "from flwr.client.mod import fixedclipping_mod\n",
    "from flwr.server.strategy import (\n",
    "    DifferentialPrivacyClientSideFixedClipping\n",
    ")\n",
    "from utils_fl.utils import * \n",
    "from utils_fl.LLM import LLM_fl\n",
    "from utils_fl.LLM import get_fireworks_api_key,load_env"
   ]
  },
  {
   "cell_type": "markdown",
   "id": "882a2963",
   "metadata": {},
   "source": [
    "* Load configuration."
   ]
  },
  {
   "cell_type": "code",
   "execution_count": 3,
   "id": "6dae3e48-08de-412e-80f1-95de0039f3b8",
   "metadata": {
    "height": 64
   },
   "outputs": [
    {
     "name": "stdout",
     "output_type": "stream",
     "text": [
      "dataset:\n",
      "  name: medalpaca/medical_meadow_medical_flashcards\n",
      "model:\n",
      "  name: EleutherAI/pythia-14m\n",
      "  quantization: 4\n",
      "  gradient_checkpointing: true\n",
      "  use_fast_tokenizer: true\n",
      "  lora:\n",
      "    peft_lora_r: 16\n",
      "    peft_lora_alpha: 64\n",
      "    target_modules: null\n",
      "train:\n",
      "  num_rounds: ${flower.num_rounds}\n",
      "  save_every_round: 5\n",
      "  learning_rate_max: 5.0e-05\n",
      "  learning_rate_min: 1.0e-06\n",
      "  seq_length: 512\n",
      "  padding_side: left\n",
      "  evaluate_split: false\n",
      "  training_arguments:\n",
      "    output_dir: null\n",
      "    learning_rate: null\n",
      "    disable_tqdm: true\n",
      "    per_device_train_batch_size: 2\n",
      "    gradient_accumulation_steps: 1\n",
      "    logging_steps: 5\n",
      "    num_train_epochs: 3\n",
      "    max_steps: 1\n",
      "    report_to: null\n",
      "    save_steps: 1000\n",
      "    save_total_limit: 10\n",
      "    gradient_checkpointing: ${model.gradient_checkpointing}\n",
      "    lr_scheduler_type: constant\n",
      "flower:\n",
      "  num_clients: 20\n",
      "  num_rounds: 2\n",
      "  fraction_fit: 0.2\n",
      "  client_resources:\n",
      "    num_cpus: 2\n",
      "    num_gpus: 0.0\n",
      "  dp:\n",
      "    noise_mult: 0.02\n",
      "    clip_norm: 0.5\n",
      "\n"
     ]
    }
   ],
   "source": [
    "cfg = get_config(\"federated\")\n",
    "\n",
    "print_config(cfg)"
   ]
  },
  {
   "cell_type": "markdown",
   "id": "99b584e0",
   "metadata": {},
   "source": [
    "#### 2. Dataset partition"
   ]
  },
  {
   "cell_type": "code",
   "execution_count": 4,
   "id": "8edae329",
   "metadata": {},
   "outputs": [],
   "source": [
    "partitioner = IidPartitioner(num_partitions=cfg.flower.num_clients)"
   ]
  },
  {
   "cell_type": "code",
   "execution_count": 5,
   "id": "eeb50f7c",
   "metadata": {},
   "outputs": [
    {
     "data": {
      "text/plain": [
       "<flwr_datasets.partitioner.iid_partitioner.IidPartitioner at 0x7f4b169791b0>"
      ]
     },
     "execution_count": 5,
     "metadata": {},
     "output_type": "execute_result"
    }
   ],
   "source": [
    "partitioner"
   ]
  },
  {
   "cell_type": "code",
   "execution_count": 6,
   "id": "c561ea10",
   "metadata": {},
   "outputs": [
    {
     "data": {
      "text/plain": [
       "'medalpaca/medical_meadow_medical_flashcards'"
      ]
     },
     "execution_count": 6,
     "metadata": {},
     "output_type": "execute_result"
    }
   ],
   "source": [
    "cfg.dataset.name"
   ]
  },
  {
   "cell_type": "code",
   "execution_count": 7,
   "id": "729eb95a-d86f-4871-a8e2-652227f4e983",
   "metadata": {
    "height": 166
   },
   "outputs": [
    {
     "data": {
      "text/plain": [
       "Dataset({\n",
       "    features: ['instruction', 'response'],\n",
       "    num_rows: 1698\n",
       "})"
      ]
     },
     "execution_count": 7,
     "metadata": {},
     "output_type": "execute_result"
    }
   ],
   "source": [
    "fds = FederatedDataset(\n",
    "    dataset=cfg.dataset.name,\n",
    "    partitioners={\"train\": partitioner}\n",
    ")\n",
    "\n",
    "partition_zero = fds.load_partition(0) \n",
    "\n",
    "format_dataset(partition_zero)"
   ]
  },
  {
   "cell_type": "code",
   "execution_count": 8,
   "id": "f2def42e",
   "metadata": {},
   "outputs": [
    {
     "data": {
      "text/plain": [
       "<flwr_datasets.federated_dataset.FederatedDataset at 0x7f4b16b19930>"
      ]
     },
     "execution_count": 8,
     "metadata": {},
     "output_type": "execute_result"
    }
   ],
   "source": [
    "fds"
   ]
  },
  {
   "cell_type": "code",
   "execution_count": 9,
   "id": "c63de70b",
   "metadata": {},
   "outputs": [
    {
     "data": {
      "text/plain": [
       "Dataset({\n",
       "    features: ['input', 'output', 'instruction'],\n",
       "    num_rows: 1698\n",
       "})"
      ]
     },
     "execution_count": 9,
     "metadata": {},
     "output_type": "execute_result"
    }
   ],
   "source": [
    "partition_zero"
   ]
  },
  {
   "cell_type": "code",
   "execution_count": 10,
   "id": "8750b4d7",
   "metadata": {},
   "outputs": [
    {
     "name": "stdout",
     "output_type": "stream",
     "text": [
      "{'instruction': 'What type of injury to the arm/elbow most often leads to supracondylar fractures?', 'response': 'Supracondylar fractures most often occur after hyperextension injuries of the arm/elbow.'}\n",
      "{'instruction': 'Which cell cycle regulator is encoded by the CCND1 proto-oncogene, and what is its function?', 'response': 'The CCND1 proto-oncogene encodes for the cell cycle regulator Cyclin D1, which stimulates cell cycle progression.'}\n",
      "{'instruction': 'What is the endocrine effect of glucose-insulinotropic peptide in response to an oral glucose load, specifically in terms of its effect on the release of a certain hormone?', 'response': 'Glucose-insulinotropic peptide causes increased release of insulin in response to an oral glucose load through its endocrine effect.'}\n",
      "{'instruction': 'What is the remnant of the umbilical vein and where is it contained?', 'response': 'The remnant of the umbilical vein is the ligamentum teres hepatis, which is contained in the falciform ligament.'}\n",
      "{'instruction': 'What are the names of the viral DNA-polymerase inhibitors that do not require thymidine kinase to become active?', 'response': 'The names of the viral DNA-polymerase inhibitors that do not require thymidine kinase to become active are Cidofovir and Foscarnet.'}\n"
     ]
    }
   ],
   "source": [
    "dataset_test =  format_dataset(partition_zero)\n",
    "\n",
    "# Mostrar los primeros 5 elementos\n",
    "for i in range(5):\n",
    "    print(dataset_test[i])"
   ]
  },
  {
   "cell_type": "code",
   "execution_count": 11,
   "id": "fc049a11",
   "metadata": {},
   "outputs": [
    {
     "data": {
      "text/plain": [
       "Dataset({\n",
       "    features: ['instruction', 'response'],\n",
       "    num_rows: 1698\n",
       "})"
      ]
     },
     "execution_count": 11,
     "metadata": {},
     "output_type": "execute_result"
    }
   ],
   "source": [
    "dataset_test"
   ]
  },
  {
   "cell_type": "markdown",
   "id": "d223c960",
   "metadata": {},
   "source": [
    "* Visualize the data partition."
   ]
  },
  {
   "cell_type": "code",
   "execution_count": 12,
   "id": "c63940fa-d3bc-47f6-bab0-7f98e1f30230",
   "metadata": {
    "height": 30
   },
   "outputs": [
    {
     "data": {
      "image/png": "[encoded data removed]",
      "text/plain": [
       "<Figure size 640x480 with 1 Axes>"
      ]
     },
     "metadata": {},
     "output_type": "display_data"
    }
   ],
   "source": [
    "visualize_partitions(fds)"
   ]
  },
  {
   "cell_type": "markdown",
   "id": "8bd12fc4",
   "metadata": {},
   "source": [
    "#### 3. Client and Server"
   ]
  },
  {
   "cell_type": "markdown",
   "id": "494c7556",
   "metadata": {},
   "source": [
    "* Load the tokenizer and other components."
   ]
  },
  {
   "cell_type": "code",
   "execution_count": 13,
   "id": "187c7731-cd6a-4549-8a88-944fcabf64a4",
   "metadata": {
    "height": 166
   },
   "outputs": [],
   "source": [
    "(\n",
    "tokenizer,\n",
    "data_collator,\n",
    "formatting_prompts_func,\n",
    ") = get_tokenizer_and_data_collator_and_propt_formatting(\n",
    "    cfg.model.name, \n",
    "    cfg.model.use_fast_tokenizer,\n",
    "    cfg.train.padding_side,\n",
    ")"
   ]
  },
  {
   "cell_type": "code",
   "execution_count": 14,
   "id": "c117eb65",
   "metadata": {},
   "outputs": [
    {
     "data": {
      "text/plain": [
       "<function utils_fl.utils.formatting_prompts_func(example)>"
      ]
     },
     "execution_count": 14,
     "metadata": {},
     "output_type": "execute_result"
    }
   ],
   "source": [
    "formatting_prompts_func"
   ]
  },
  {
   "cell_type": "markdown",
   "id": "d86d07d5",
   "metadata": {},
   "source": [
    "* Define the client."
   ]
  },
  {
   "cell_type": "code",
   "execution_count": 15,
   "id": "1211a343",
   "metadata": {},
   "outputs": [
    {
     "data": {
      "text/plain": [
       "{'num_rounds': '${flower.num_rounds}', 'save_every_round': 5, 'learning_rate_max': 5e-05, 'learning_rate_min': 1e-06, 'seq_length': 512, 'padding_side': 'left', 'evaluate_split': False, 'training_arguments': {'output_dir': None, 'learning_rate': None, 'disable_tqdm': True, 'per_device_train_batch_size': 2, 'gradient_accumulation_steps': 1, 'logging_steps': 5, 'num_train_epochs': 3, 'max_steps': 1, 'report_to': None, 'save_steps': 1000, 'save_total_limit': 10, 'gradient_checkpointing': '${model.gradient_checkpointing}', 'lr_scheduler_type': 'constant'}}"
      ]
     },
     "execution_count": 15,
     "metadata": {},
     "output_type": "execute_result"
    }
   ],
   "source": [
    "cfg.train"
   ]
  },
  {
   "cell_type": "code",
   "execution_count": 16,
   "id": "c40738a1",
   "metadata": {},
   "outputs": [
    {
     "data": {
      "text/plain": [
       "{'name': 'EleutherAI/pythia-14m', 'quantization': 4, 'gradient_checkpointing': True, 'use_fast_tokenizer': True, 'lora': {'peft_lora_r': 16, 'peft_lora_alpha': 64, 'target_modules': None}}"
      ]
     },
     "execution_count": 16,
     "metadata": {},
     "output_type": "execute_result"
    }
   ],
   "source": [
    "cfg.model"
   ]
  },
  {
   "cell_type": "code",
   "execution_count": 17,
   "id": "f8aef1bf-47c4-484b-9a68-8a7731b660e0",
   "metadata": {
    "height": 234
   },
   "outputs": [],
   "source": [
    "save_path = \"./my_fl_model\"\n",
    "client = fl.client.ClientApp(\n",
    "    client_fn=gen_client_fn(\n",
    "        fds,\n",
    "        tokenizer,\n",
    "        formatting_prompts_func,\n",
    "        data_collator,\n",
    "        cfg.model, \n",
    "        cfg.train, \n",
    "        save_path,\n",
    "    ),\n",
    "    mods=[fixedclipping_mod] \n",
    ")"
   ]
  },
  {
   "cell_type": "code",
   "execution_count": 18,
   "id": "adb9faf3",
   "metadata": {},
   "outputs": [
    {
     "data": {
      "text/plain": [
       "flwr.client.client_app.ClientApp"
      ]
     },
     "execution_count": 18,
     "metadata": {},
     "output_type": "execute_result"
    }
   ],
   "source": [
    "type(client)"
   ]
  },
  {
   "cell_type": "code",
   "execution_count": 19,
   "id": "01ea70b6",
   "metadata": {},
   "outputs": [
    {
     "data": {
      "text/plain": [
       "{'num_rounds': '${flower.num_rounds}', 'save_every_round': 5, 'learning_rate_max': 5e-05, 'learning_rate_min': 1e-06, 'seq_length': 512, 'padding_side': 'left', 'evaluate_split': False, 'training_arguments': {'output_dir': None, 'learning_rate': None, 'disable_tqdm': True, 'per_device_train_batch_size': 2, 'gradient_accumulation_steps': 1, 'logging_steps': 5, 'num_train_epochs': 3, 'max_steps': 1, 'report_to': None, 'save_steps': 1000, 'save_total_limit': 10, 'gradient_checkpointing': '${model.gradient_checkpointing}', 'lr_scheduler_type': 'constant'}}"
      ]
     },
     "execution_count": 19,
     "metadata": {},
     "output_type": "execute_result"
    }
   ],
   "source": [
    "cfg.train"
   ]
  },
  {
   "cell_type": "code",
   "execution_count": 20,
   "id": "c80eb9c2",
   "metadata": {},
   "outputs": [],
   "source": [
    "cfg.model.lora.target_modules"
   ]
  },
  {
   "cell_type": "markdown",
   "id": "ffe27528",
   "metadata": {},
   "source": [
    "> Note: The ```gen_client_fn``` function is provided for your use. You can find it in the utils folder > ```utils.py```"
   ]
  },
  {
   "cell_type": "markdown",
   "id": "f599a2f1",
   "metadata": {},
   "source": [
    "* Define the server function and add Differential Privacy."
   ]
  },
  {
   "cell_type": "code",
   "execution_count": 21,
   "id": "6834b157",
   "metadata": {},
   "outputs": [],
   "source": [
    "##### Definir la estrategia planificada\n",
    "from transformers.modeling_outputs import SequenceClassifierOutput\n",
    "from torch import nn\n",
    "import torch\n",
    "\n",
    "class Distillation(nn.Module):\n",
    "    def __init__(self, teacher_model, student_model):\n",
    "        super(Distillation, self).__init__()\n",
    "        self.teacher = teacher_model\n",
    "        self.student = student_model\n",
    "        self.kl_div_loss = nn.KLDivLoss(reduction=\"batchmean\")\n",
    "        \n",
    "    def forward(self, input_ids=None, attention_mask=None, labels=None):\n",
    "        # Solo obtener logits del teacher\n",
    "        with torch.no_grad():\n",
    "            t_outputs = self.teacher(\n",
    "                input_ids=input_ids,\n",
    "                attention_mask=attention_mask,\n",
    "                labels=labels\n",
    "            )\n",
    "            t_logits = t_outputs.logits\n",
    "        \n",
    "        # Obtener logits del student\n",
    "        s_outputs = self.student(\n",
    "            input_ids=input_ids,\n",
    "            attention_mask=attention_mask,\n",
    "            labels=labels\n",
    "        )\n",
    "        s_logits = s_outputs.logits\n",
    "        s_loss = s_outputs.loss\n",
    "        \n",
    "        # Distillation loss simplificada\n",
    "        temperature = 2.0\n",
    "        loss_kl = self.kl_div_loss(\n",
    "            F.log_softmax(s_logits / temperature, dim=-1),\n",
    "            F.softmax(t_logits / temperature, dim=-1)\n",
    "        ) * (temperature ** 2)\n",
    "        \n",
    "        # Combinar pérdidas\n",
    "        total_loss = 0.7 * s_loss + 0.3 * loss_kl\n",
    "        \n",
    "        return SequenceClassifierOutput(\n",
    "            loss=total_loss,\n",
    "            logits=s_logits,\n",
    "            hidden_states=s_outputs.hidden_states,\n",
    "            attentions=s_outputs.attentions\n",
    "        )\n",
    "\n",
    "\n"
   ]
  },
  {
   "cell_type": "code",
   "execution_count": 22,
   "id": "6e2a9139",
   "metadata": {},
   "outputs": [],
   "source": [
    "from transformers import AutoModelForCausalLM, AutoTokenizer, BitsAndBytesConfig\n",
    "from peft import LoraConfig, get_peft_model, prepare_model_for_kbit_training\n",
    "import torch.nn as nn\n",
    "import torch\n",
    "\n",
    "\n",
    "def get_medical_dataloaders(batch_size=2):\n",
    "    \"\"\"Carga y prepara dataloaders médicos para destilación\"\"\"\n",
    "    tokenizer = AutoTokenizer.from_pretrained(\"EleutherAI/pythia-14m\")\n",
    "    tokenizer.pad_token = tokenizer.eos_token\n",
    "    \n",
    "    def format_medical_batch(batch):\n",
    "        # Construir texto usando las columnas reales del dataset\n",
    "        texts = [\n",
    "            f\"### Instrucción:\\n{inst}\\n\\n### Entrada:\\n{inp}\\n\\n### Respuesta:\\n{out}\"\n",
    "            for inst, inp, out in zip(\n",
    "                batch[\"instruction\"],\n",
    "                batch[\"input\"],\n",
    "                batch[\"output\"]\n",
    "            )\n",
    "        ]\n",
    "        \n",
    "        # Tokenizar y preparar los batches\n",
    "        tokenized = tokenizer(\n",
    "            texts,\n",
    "            max_length=512,\n",
    "            padding=\"max_length\",\n",
    "            truncation=True,\n",
    "            return_tensors=\"pt\"\n",
    "        )\n",
    "        \n",
    "        # Para lenguaje causal, los labels son iguales a los input_ids\n",
    "        tokenized[\"labels\"] = tokenized[\"input_ids\"].clone()\n",
    "        return tokenized\n",
    "    \n",
    "    # Cargar dataset\n",
    "    dataset = load_dataset(\"medalpaca/medical_meadow_medical_flashcards\")\n",
    "    \n",
    "    # Procesar y dividir\n",
    "    processed_dataset = dataset.map(\n",
    "        format_medical_batch,\n",
    "        batched=True,\n",
    "        remove_columns=[\"instruction\", \"input\", \"output\"]  # Columnas correctas\n",
    "    )\n",
    "    \n",
    "    # Dividir en train/test (80/20)\n",
    "    split_dataset = processed_dataset[\"train\"].train_test_split(test_size=0.2)\n",
    "    \n",
    "    # Función de collate para los DataLoaders\n",
    "    def collate_fn(batch):\n",
    "        return {\n",
    "            \"input_ids\": torch.stack([torch.tensor(i[\"input_ids\"]) for i in batch]),\n",
    "            \"attention_mask\": torch.stack([torch.tensor(i[\"attention_mask\"]) for i in batch]),\n",
    "            \"labels\": torch.stack([torch.tensor(i[\"labels\"]) for i in batch])\n",
    "        }\n",
    "    \n",
    "    train_loader = DataLoader(\n",
    "        split_dataset[\"train\"],\n",
    "        batch_size=batch_size,\n",
    "        shuffle=True,\n",
    "        collate_fn=collate_fn\n",
    "    )\n",
    "    \n",
    "    test_loader = DataLoader(\n",
    "        split_dataset[\"test\"],\n",
    "        batch_size=batch_size,\n",
    "        collate_fn=collate_fn\n",
    "    )\n",
    "    \n",
    "    return train_loader, test_loader"
   ]
  },
  {
   "cell_type": "code",
   "execution_count": 23,
   "id": "137845af",
   "metadata": {},
   "outputs": [],
   "source": [
    "student_model_2 = get_model(cfg.model)"
   ]
  },
  {
   "cell_type": "code",
   "execution_count": 24,
   "id": "58e57267",
   "metadata": {},
   "outputs": [
    {
     "ename": "NameError",
     "evalue": "name 'teacher_model' is not defined",
     "output_type": "error",
     "traceback": [
      "\u001b[0;31m---------------------------------------------------------------------------\u001b[0m",
      "\u001b[0;31mNameError\u001b[0m                                 Traceback (most recent call last)",
      "Cell \u001b[0;32mIn[24], line 1\u001b[0m\n\u001b[0;32m----> 1\u001b[0m t_config \u001b[38;5;241m=\u001b[39m \u001b[43mteacher_model\u001b[49m\u001b[38;5;241m.\u001b[39mconfig\n\u001b[1;32m      2\u001b[0m s_config \u001b[38;5;241m=\u001b[39m student_model\u001b[38;5;241m.\u001b[39mconfig\n",
      "\u001b[0;31mNameError\u001b[0m: name 'teacher_model' is not defined"
     ]
    }
   ],
   "source": [
    "t_config = teacher_model.config\n",
    "s_config = student_model.config\n",
    "\n"
   ]
  },
  {
   "cell_type": "code",
   "execution_count": 25,
   "id": "86161a7f",
   "metadata": {},
   "outputs": [
    {
     "ename": "NameError",
     "evalue": "name 't_config' is not defined",
     "output_type": "error",
     "traceback": [
      "\u001b[0;31m---------------------------------------------------------------------------\u001b[0m",
      "\u001b[0;31mNameError\u001b[0m                                 Traceback (most recent call last)",
      "Cell \u001b[0;32mIn[25], line 1\u001b[0m\n\u001b[0;32m----> 1\u001b[0m \u001b[43mt_config\u001b[49m\n",
      "\u001b[0;31mNameError\u001b[0m: name 't_config' is not defined"
     ]
    }
   ],
   "source": [
    "t_config"
   ]
  },
  {
   "cell_type": "code",
   "execution_count": 210,
   "id": "bf0b2c6a",
   "metadata": {},
   "outputs": [
    {
     "data": {
      "text/plain": [
       "GPTNeoXConfig {\n",
       "  \"_name_or_path\": \"EleutherAI/pythia-14m\",\n",
       "  \"architectures\": [\n",
       "    \"GPTNeoXForCausalLM\"\n",
       "  ],\n",
       "  \"bos_token_id\": 0,\n",
       "  \"classifier_dropout\": 0.1,\n",
       "  \"eos_token_id\": 0,\n",
       "  \"hidden_act\": \"gelu\",\n",
       "  \"hidden_size\": 128,\n",
       "  \"initializer_range\": 0.02,\n",
       "  \"intermediate_size\": 512,\n",
       "  \"layer_norm_eps\": 1e-05,\n",
       "  \"max_position_embeddings\": 2048,\n",
       "  \"model_type\": \"gpt_neox\",\n",
       "  \"num_attention_heads\": 4,\n",
       "  \"num_hidden_layers\": 6,\n",
       "  \"rotary_emb_base\": 10000,\n",
       "  \"rotary_pct\": 0.25,\n",
       "  \"tie_word_embeddings\": false,\n",
       "  \"torch_dtype\": \"bfloat16\",\n",
       "  \"transformers_version\": \"4.28.1\",\n",
       "  \"use_cache\": false,\n",
       "  \"use_parallel_residual\": true,\n",
       "  \"vocab_size\": 50304\n",
       "}"
      ]
     },
     "execution_count": 210,
     "metadata": {},
     "output_type": "execute_result"
    }
   ],
   "source": [
    "s_config"
   ]
  },
  {
   "cell_type": "code",
   "execution_count": null,
   "id": "2b52578c",
   "metadata": {},
   "outputs": [],
   "source": []
  },
  {
   "cell_type": "code",
   "execution_count": 73,
   "id": "4c77dd95",
   "metadata": {},
   "outputs": [],
   "source": [
    "from flwr.common import parameters_to_ndarrays, ndarrays_to_parameters\n",
    "from flwr.server.strategy.aggregate import aggregate  # Correct import\n",
    "import torch\n",
    "import torch.nn as nn\n",
    "from torch.optim import AdamW\n",
    "from transformers import get_scheduler\n",
    "from tqdm import tqdm\n",
    "\n",
    "class MedicalDistillationStrategy(fl.server.strategy.FedAvg):\n",
    "    def __init__(self, teacher: nn.Module, student: nn.Module, \n",
    "                 train_loader, test_loader,\n",
    "                 teacher_pretrain_epochs: int = 0,\n",
    "                 kd_epochs: int = 3,\n",
    "                 distil_lr: float = 1e-5,\n",
    "                 *args, **kwargs):\n",
    "        \n",
    "        super().__init__(*args, **kwargs)\n",
    "        self.teacher = teacher.eval()\n",
    "        self.student = student\n",
    "        self.train_loader = train_loader\n",
    "        self.test_loader = test_loader\n",
    "        self.device = next(student.parameters()).device\n",
    "        self.teacher_pretrain_epochs = teacher_pretrain_epochs\n",
    "        self.kd_epochs = kd_epochs\n",
    "        self.distil_lr = distil_lr\n",
    "        \n",
    "        # Congelar teacher\n",
    "        for param in self.teacher.parameters():\n",
    "            param.requires_grad = False\n",
    "            \n",
    "        # Verificar que los modelos sean compatibles\n",
    "        self._verify_model_compatibility()\n",
    "\n",
    "    def _verify_model_compatibility(self):\n",
    "        \"\"\"Verifica que los modelos teacher y student sean compatibles\"\"\"\n",
    "        t_config = self.teacher.config\n",
    "        s_config = self.student.config\n",
    "        \n",
    "        assert t_config.vocab_size == s_config.vocab_size, \\\n",
    "            f\"Vocab size mismatch: teacher {t_config.vocab_size} vs student {s_config.vocab_size}\"\n",
    "            \n",
    "        assert t_config.hidden_size == s_config.hidden_size, \\\n",
    "            f\"Hidden size mismatch: teacher {t_config.hidden_size} vs student {s_config.hidden_size}\"\n",
    "    \n",
    "    def train_distillation(self, distiller, epochs):\n",
    "        \"\"\"Train the student model using knowledge distillation\"\"\"\n",
    "        optimizer = AdamW(self.student.parameters(), lr=self.distil_lr)\n",
    "        num_training_steps = epochs * len(self.train_loader)\n",
    "        \n",
    "        lr_scheduler = get_scheduler(\n",
    "            name=\"linear\",\n",
    "            optimizer=optimizer,\n",
    "            num_warmup_steps=0,\n",
    "            num_training_steps=num_training_steps\n",
    "        )\n",
    "\n",
    "        distiller.train()\n",
    "        for epoch in range(epochs):\n",
    "            for batch in tqdm(self.train_loader, desc=f\"Distillation Epoch {epoch+1}\"):\n",
    "                batch = {k: v.to(self.device) for k, v in batch.items()}\n",
    "                \n",
    "                # Forward pass\n",
    "                outputs = distiller(**batch)\n",
    "                loss = outputs.loss\n",
    "                \n",
    "                # Backward pass\n",
    "                loss.backward()\n",
    "                optimizer.step()\n",
    "                lr_scheduler.step()\n",
    "                optimizer.zero_grad()\n",
    "                \n",
    "    def aggregate_fit(self, server_round, results, failures):\n",
    "        if not results:\n",
    "            return None, {}\n",
    "            \n",
    "        # 1. Agregación estándar de parámetros\n",
    "        weights_results = [\n",
    "            (parameters_to_ndarrays(fit_res.parameters), fit_res.num_examples)\n",
    "            for _, fit_res in results\n",
    "        ]\n",
    "        aggregated_params = aggregate(weights_results)\n",
    "        \n",
    "        # 2. Cargar solo parámetros compatibles\n",
    "        self._safe_load_parameters(aggregated_params)\n",
    "        \n",
    "        # 3. Distillation training\n",
    "        distiller = Distillation(self.teacher, self.student).to(self.device)\n",
    "        self.train_distillation(distiller, epochs=self.kd_epochs)\n",
    "        \n",
    "        # 4. Devolver solo parámetros del student (sin LoRA)\n",
    "        student_params = self._get_student_base_parameters()\n",
    "        return student_params, {}\n",
    "    \n",
    "    def _safe_load_parameters(self, params_ndarrays):\n",
    "        \"\"\"Carga parámetros de forma segura, ignorando los incompatibles\"\"\"\n",
    "        current_sd = self.student.state_dict()\n",
    "        \n",
    "        for name, param in zip(current_sd.keys(), params_ndarrays):\n",
    "            if name in current_sd and param.shape == current_sd[name].shape:\n",
    "                current_sd[name] = torch.tensor(param).to(self.device)\n",
    "            else:\n",
    "                print(f\"Parameter shape mismatch for {name}: expected {current_sd[name].shape}, got {param.shape}\")\n",
    "        \n",
    "        self.student.load_state_dict(current_sd, strict=False)\n",
    "    \n",
    "    def _get_student_base_parameters(self):\n",
    "        \"\"\"Obtiene solo los parámetros base del student (no LoRA)\"\"\"\n",
    "        base_params = []\n",
    "        for name, param in self.student.named_parameters():\n",
    "            if 'lora' not in name.lower():\n",
    "                base_params.append(param.detach().cpu().numpy())\n",
    "        return fl.common.ndarrays_to_parameters(base_params)"
   ]
  },
  {
   "cell_type": "code",
   "execution_count": 64,
   "id": "a00f5597",
   "metadata": {},
   "outputs": [
    {
     "name": "stdout",
     "output_type": "stream",
     "text": [
      "Modelo teacher cargado correctamente en cuda:0\n",
      "Parámetros totales: 14,067,712\n",
      "Parámetros entrenables: 0\n"
     ]
    }
   ],
   "source": [
    "# Configuración óptima para el teacher\n",
    "bnb_config = BitsAndBytesConfig(\n",
    "    load_in_4bit=False,\n",
    "    bnb_4bit_use_double_quant=True,\n",
    "    bnb_4bit_quant_type=\"nf4\",\n",
    "    bnb_4bit_compute_dtype=torch.bfloat16\n",
    ")\n",
    "\n",
    "teacher_model = AutoModelForCausalLM.from_pretrained(\n",
    "    \"EleutherAI/pythia-14m\",\n",
    "    quantization_config=bnb_config,\n",
    "    torch_dtype=torch.bfloat16,\n",
    "    device_map=\"auto\"\n",
    ")\n",
    "teacher_model.eval()\n",
    "for param in teacher_model.parameters():\n",
    "    param.requires_grad = False\n",
    "    \n",
    "# Verificación\n",
    "print(f\"Modelo teacher cargado correctamente en {teacher_model.device}\")\n",
    "print(f\"Parámetros totales: {sum(p.numel() for p in teacher_model.parameters()):,}\")\n",
    "print(f\"Parámetros entrenables: {sum(p.numel() for p in teacher_model.parameters() if p.requires_grad):,}\")"
   ]
  },
  {
   "cell_type": "code",
   "execution_count": 65,
   "id": "b90e4d75",
   "metadata": {},
   "outputs": [],
   "source": [
    "# 2. Preparación de datos médicos\n",
    "train_loader, test_loader = get_medical_dataloaders(batch_size=2)"
   ]
  },
  {
   "cell_type": "code",
   "execution_count": 66,
   "id": "da3e10de",
   "metadata": {},
   "outputs": [
    {
     "name": "stdout",
     "output_type": "stream",
     "text": [
      "Estructura del batch: {'input_ids': torch.Size([2, 512]), 'attention_mask': torch.Size([2, 512]), 'labels': torch.Size([2, 512])}\n",
      "Texto decodificado: ### Instrucción:\n",
      "Answer this question truthfully\n",
      "\n",
      "### Entrada:\n",
      "What is a frequently observed initial clinical manifestation of compartment syndrome?\n",
      "\n",
      "### Respuesta:\n",
      "Paresthesia, which is commonly described as a sensation of pins and needles, is a common early clinical feature of compartment syndrome.<|endoftext|><|endoftext|><|endoftext|><|endoftext|><|endoftext|><|endoftext|><|endoftext|><|endoftext|><|endoftext|><|endoftext|><|endoftext|><|endoftext|><|endoftext|><|endoftext|><|endoftext|><|endoftext|><|endoftext|><|endoftext|><|endoftext|><|endoftext|><|endoftext|><|endoftext|><|endoftext|><|endoftext|><|endoftext|><|endoftext|><|endoftext|><|endoftext|><|endoftext|><|endoftext|><|endoftext|><|endoftext|><|endoftext|><|endoftext|><|endoftext|><|endoftext|><|endoftext|><|endoftext|><|endoftext|><|endoftext|><|endoftext|><|endoftext|><|endoftext|><|endoftext|><|endoftext|><|endoftext|><|endoftext|><|endoftext|><|endoftext|><|endoftext|><|endoftext|><|endoftext|><|endoftext|><|endoftext|><|endoftext|><|endoftext|><|endoftext|><|endoftext|><|endoftext|><|endoftext|><|endoftext|><|endoftext|><|endoftext|><|endoftext|><|endoftext|><|endoftext|><|endoftext|><|endoftext|><|endoftext|><|endoftext|><|endoftext|><|endoftext|><|endoftext|><|endoftext|><|endoftext|><|endoftext|><|endoftext|><|endoftext|><|endoftext|><|endoftext|><|endoftext|><|endoftext|><|endoftext|><|endoftext|><|endoftext|><|endoftext|><|endoftext|><|endoftext|><|endoftext|><|endoftext|><|endoftext|><|endoftext|><|endoftext|><|endoftext|><|endoftext|><|endoftext|><|endoftext|><|endoftext|><|endoftext|><|endoftext|><|endoftext|><|endoftext|><|endoftext|><|endoftext|><|endoftext|><|endoftext|><|endoftext|><|endoftext|><|endoftext|><|endoftext|><|endoftext|><|endoftext|><|endoftext|><|endoftext|><|endoftext|><|endoftext|><|endoftext|><|endoftext|><|endoftext|><|endoftext|><|endoftext|><|endoftext|><|endoftext|><|endoftext|><|endoftext|><|endoftext|><|endoftext|><|endoftext|><|endoftext|><|endoftext|><|endoftext|><|endoftext|><|endoftext|><|endoftext|><|endoftext|><|endoftext|><|endoftext|><|endoftext|><|endoftext|><|endoftext|><|endoftext|><|endoftext|><|endoftext|><|endoftext|><|endoftext|><|endoftext|><|endoftext|><|endoftext|><|endoftext|><|endoftext|><|endoftext|><|endoftext|><|endoftext|><|endoftext|><|endoftext|><|endoftext|><|endoftext|><|endoftext|><|endoftext|><|endoftext|><|endoftext|><|endoftext|><|endoftext|><|endoftext|><|endoftext|><|endoftext|><|endoftext|><|endoftext|><|endoftext|><|endoftext|><|endoftext|><|endoftext|><|endoftext|><|endoftext|><|endoftext|><|endoftext|><|endoftext|><|endoftext|><|endoftext|><|endoftext|><|endoftext|><|endoftext|><|endoftext|><|endoftext|><|endoftext|><|endoftext|><|endoftext|><|endoftext|><|endoftext|><|endoftext|><|endoftext|><|endoftext|><|endoftext|><|endoftext|><|endoftext|><|endoftext|><|endoftext|><|endoftext|><|endoftext|><|endoftext|><|endoftext|><|endoftext|><|endoftext|><|endoftext|><|endoftext|><|endoftext|><|endoftext|><|endoftext|><|endoftext|><|endoftext|><|endoftext|><|endoftext|><|endoftext|><|endoftext|><|endoftext|><|endoftext|><|endoftext|><|endoftext|><|endoftext|><|endoftext|><|endoftext|><|endoftext|><|endoftext|><|endoftext|><|endoftext|><|endoftext|><|endoftext|><|endoftext|><|endoftext|><|endoftext|><|endoftext|><|endoftext|><|endoftext|><|endoftext|><|endoftext|><|endoftext|><|endoftext|><|endoftext|><|endoftext|><|endoftext|><|endoftext|><|endoftext|><|endoftext|><|endoftext|><|endoftext|><|endoftext|><|endoftext|><|endoftext|><|endoftext|><|endoftext|><|endoftext|><|endoftext|><|endoftext|><|endoftext|><|endoftext|><|endoftext|><|endoftext|><|endoftext|><|endoftext|><|endoftext|><|endoftext|><|endoftext|><|endoftext|><|endoftext|><|endoftext|><|endoftext|><|endoftext|><|endoftext|><|endoftext|><|endoftext|><|endoftext|><|endoftext|><|endoftext|><|endoftext|><|endoftext|><|endoftext|><|endoftext|><|endoftext|><|endoftext|><|endoftext|><|endoftext|><|endoftext|><|endoftext|><|endoftext|><|endoftext|><|endoftext|><|endoftext|><|endoftext|><|endoftext|><|endoftext|><|endoftext|><|endoftext|><|endoftext|><|endoftext|><|endoftext|><|endoftext|><|endoftext|><|endoftext|><|endoftext|><|endoftext|><|endoftext|><|endoftext|><|endoftext|><|endoftext|><|endoftext|><|endoftext|><|endoftext|><|endoftext|><|endoftext|><|endoftext|><|endoftext|><|endoftext|><|endoftext|><|endoftext|><|endoftext|><|endoftext|><|endoftext|><|endoftext|><|endoftext|><|endoftext|><|endoftext|><|endoftext|><|endoftext|><|endoftext|><|endoftext|><|endoftext|><|endoftext|><|endoftext|><|endoftext|><|endoftext|><|endoftext|><|endoftext|><|endoftext|><|endoftext|><|endoftext|><|endoftext|><|endoftext|><|endoftext|><|endoftext|><|endoftext|><|endoftext|><|endoftext|><|endoftext|><|endoftext|><|endoftext|><|endoftext|><|endoftext|><|endoftext|><|endoftext|><|endoftext|><|endoftext|><|endoftext|><|endoftext|><|endoftext|><|endoftext|><|endoftext|><|endoftext|><|endoftext|><|endoftext|><|endoftext|><|endoftext|><|endoftext|><|endoftext|><|endoftext|><|endoftext|><|endoftext|><|endoftext|><|endoftext|><|endoftext|><|endoftext|><|endoftext|><|endoftext|><|endoftext|><|endoftext|><|endoftext|><|endoftext|><|endoftext|><|endoftext|><|endoftext|><|endoftext|><|endoftext|><|endoftext|><|endoftext|><|endoftext|><|endoftext|><|endoftext|><|endoftext|><|endoftext|><|endoftext|><|endoftext|><|endoftext|><|endoftext|><|endoftext|><|endoftext|><|endoftext|><|endoftext|><|endoftext|><|endoftext|><|endoftext|><|endoftext|><|endoftext|><|endoftext|><|endoftext|><|endoftext|><|endoftext|><|endoftext|><|endoftext|><|endoftext|><|endoftext|><|endoftext|><|endoftext|><|endoftext|><|endoftext|><|endoftext|><|endoftext|><|endoftext|><|endoftext|><|endoftext|><|endoftext|><|endoftext|><|endoftext|><|endoftext|><|endoftext|><|endoftext|><|endoftext|><|endoftext|><|endoftext|><|endoftext|><|endoftext|><|endoftext|><|endoftext|><|endoftext|><|endoftext|><|endoftext|><|endoftext|><|endoftext|><|endoftext|><|endoftext|><|endoftext|><|endoftext|><|endoftext|><|endoftext|><|endoftext|><|endoftext|><|endoftext|><|endoftext|><|endoftext|>\n"
     ]
    }
   ],
   "source": [
    "# Verificar el primer batch\n",
    "sample_batch = next(iter(train_loader))\n",
    "print(\"Estructura del batch:\", {k: v.shape for k, v in sample_batch.items()})\n",
    "print(\"Texto decodificado:\", tokenizer.decode(sample_batch[\"input_ids\"][0]))"
   ]
  },
  {
   "cell_type": "code",
   "execution_count": 67,
   "id": "48295df5",
   "metadata": {},
   "outputs": [],
   "source": [
    "def get_server_evaluator(test_loader, save_path):\n",
    "    \"\"\"Evaluación especializada para el dataset médico\"\"\"\n",
    "    def evaluate_fn(server_round: int, parameters: Parameters, _):\n",
    "        # 1. Cargar parámetros en el student\n",
    "        student = create_student_model()\n",
    "        set_peft_model_state_dict(student, parameters_to_ndarrays(parameters))\n",
    "        \n",
    "        # 2. Evaluar\n",
    "        student.eval()\n",
    "        total_loss = 0\n",
    "        for batch in test_loader:\n",
    "            with torch.no_grad():\n",
    "                outputs = student(\n",
    "                    input_ids=batch[\"input_ids\"].to(student.device),\n",
    "                    attention_mask=batch[\"attention_mask\"].to(student.device),\n",
    "                    labels=batch[\"labels\"].to(student.device)\n",
    "                )\n",
    "            total_loss += outputs.loss.item()\n",
    "        \n",
    "        avg_loss = total_loss / len(test_loader)\n",
    "        perplexity = torch.exp(torch.tensor(avg_loss)).item()\n",
    "        \n",
    "        # 3. Guardar checkpoint cada 5 rondas\n",
    "        if server_round % 5 == 0:\n",
    "            torch.save(\n",
    "                student.state_dict(),\n",
    "                f\"{save_path}/round_{server_round}.pt\"\n",
    "            )\n",
    "        \n",
    "        return avg_loss, {\"perplexity\": perplexity}\n",
    "    \n",
    "    return evaluate_fn"
   ]
  },
  {
   "cell_type": "code",
   "execution_count": 54,
   "id": "eb90ae4a",
   "metadata": {},
   "outputs": [],
   "source": [
    "student_model = get_model(cfg.model)"
   ]
  },
  {
   "cell_type": "code",
   "execution_count": 55,
   "id": "931e6002",
   "metadata": {},
   "outputs": [
    {
     "name": "stdout",
     "output_type": "stream",
     "text": [
      "→ Parámetros totales: 14,067,712\n",
      "→ Parámetros entrenables: 0\n",
      "→ Porcentaje entrenable: 0.00%\n"
     ]
    }
   ],
   "source": [
    "def print_model_parameters(model):\n",
    "    total_params = sum(p.numel() for p in model.parameters())\n",
    "    trainable_params = sum(p.numel() for p in model.parameters() if p.requires_grad)\n",
    "    \n",
    "    print(f\"→ Parámetros totales: {total_params:,}\")\n",
    "    print(f\"→ Parámetros entrenables: {trainable_params:,}\")\n",
    "    print(f\"→ Porcentaje entrenable: {trainable_params/total_params:.2%}\")\n",
    "\n",
    "print_model_parameters(teacher_model)"
   ]
  },
  {
   "cell_type": "code",
   "execution_count": 56,
   "id": "42aa2fe5",
   "metadata": {},
   "outputs": [
    {
     "data": {
      "text/plain": [
       "{'name': 'EleutherAI/pythia-14m', 'quantization': 4, 'gradient_checkpointing': True, 'use_fast_tokenizer': True, 'lora': {'peft_lora_r': 16, 'peft_lora_alpha': 64, 'target_modules': None}}"
      ]
     },
     "execution_count": 56,
     "metadata": {},
     "output_type": "execute_result"
    }
   ],
   "source": [
    "cfg.model"
   ]
  },
  {
   "cell_type": "code",
   "execution_count": 68,
   "id": "9b362612",
   "metadata": {},
   "outputs": [],
   "source": [
    "def server_fn(context: Context):\n",
    "    # 4. Configurar estrategia con valores fijos\n",
    "    estrategy = MedicalDistillationStrategy(\n",
    "        teacher=teacher_model,\n",
    "        student=student_model,\n",
    "        train_loader=train_loader,\n",
    "        test_loader=test_loader,\n",
    "        teacher_pretrain_epochs=0,  # Teacher pre-entrenado\n",
    "        kd_epochs=3,                # 3 épocas de destilación por ronda\n",
    "        distil_lr=1e-5,             # Learning rate fijo para destilación\n",
    "        min_available_clients=3,     # Esperar 3 clientes mínimo\n",
    "        fraction_fit=1.0,           # Muestrear todos los clientes disponibles\n",
    "        fraction_evaluate=0.0,      # Evaluación solo en servidor\n",
    "        evaluate_metrics_aggregation_fn=fit_weighted_average,\n",
    "        on_fit_config_fn=get_on_fit_config(),\n",
    "        evaluate_fn=get_evaluate_fn( \n",
    "            cfg.model,\n",
    "            cfg.train.save_every_round,\n",
    "            cfg.flower.num_rounds,\n",
    "            save_path\n",
    "        )\n",
    "    \n",
    "    )\n",
    "    \n",
    "    # Add Differential Privacy\n",
    "    sampled_clients = cfg.flower.num_clients*estrategy.fraction_fit\n",
    "    estrategy = DifferentialPrivacyClientSideFixedClipping(\n",
    "        estrategy, \n",
    "        noise_multiplier=cfg.flower.dp.noise_mult,\n",
    "        clipping_norm=cfg.flower.dp.clip_norm, \n",
    "        num_sampled_clients=sampled_clients\n",
    "    )\n",
    "    # 6. Configuración final del servidor\n",
    "    return fl.server.ServerAppComponents(\n",
    "        strategy=estrategy,\n",
    "        config=fl.server.ServerConfig(num_rounds=10)  # 10 rondas de entrenamiento\n",
    "    )"
   ]
  },
  {
   "cell_type": "markdown",
   "id": "c9a12ee6",
   "metadata": {},
   "source": [
    "* Instantiate the ServerApp."
   ]
  },
  {
   "cell_type": "code",
   "execution_count": 69,
   "id": "c5c39cfe-aa8b-4901-8aa7-2dce50836456",
   "metadata": {
    "height": 30
   },
   "outputs": [],
   "source": [
    "server = fl.server.ServerApp(server_fn=server_fn)"
   ]
  },
  {
   "cell_type": "markdown",
   "id": "1fb90e54",
   "metadata": {},
   "source": [
    "#### 4. Run"
   ]
  },
  {
   "cell_type": "markdown",
   "id": "26a082e3",
   "metadata": {},
   "source": [
    "* Run the simulation."
   ]
  },
  {
   "cell_type": "markdown",
   "id": "896a9f13",
   "metadata": {},
   "source": [
    "> Note: This simulation might take a few minutes to complete."
   ]
  },
  {
   "cell_type": "code",
   "execution_count": 70,
   "id": "abcff8f9",
   "metadata": {},
   "outputs": [],
   "source": [
    "client_resources = dict(cfg.flower.client_resources)"
   ]
  },
  {
   "cell_type": "code",
   "execution_count": 71,
   "id": "4eed4295",
   "metadata": {},
   "outputs": [
    {
     "data": {
      "text/plain": [
       "{'num_cpus': 2, 'num_gpus': 0.0}"
      ]
     },
     "execution_count": 71,
     "metadata": {},
     "output_type": "execute_result"
    }
   ],
   "source": [
    "client_resources"
   ]
  },
  {
   "cell_type": "code",
   "execution_count": 72,
   "id": "b43eb1bd-eb58-429e-a35c-d4c9eb4a6743",
   "metadata": {
    "height": 149
   },
   "outputs": [
    {
     "name": "stderr",
     "output_type": "stream",
     "text": [
      "\u001b[92mINFO \u001b[0m: Starting Flower ServerApp, config: num_rounds=10, no round_timeout\n",
      "\u001b[92mINFO \u001b[0m: \n",
      "\u001b[92mINFO \u001b[0m: [INIT]\n",
      "\u001b[92mINFO \u001b[0m: Requesting initial parameters from one random client\n",
      "\u001b[92mINFO \u001b[0m: Received initial parameters from one random client\n",
      "\u001b[92mINFO \u001b[0m: Evaluating initial global parameters\n",
      "\u001b[92mINFO \u001b[0m: initial parameters (loss, other metrics): 0.0, {}\n",
      "\u001b[92mINFO \u001b[0m: \n",
      "\u001b[92mINFO \u001b[0m: [ROUND 1]\n",
      "\u001b[92mINFO \u001b[0m: configure_fit: strategy sampled 20 clients (out of 20)\n",
      "\u001b[92mINFO \u001b[0m: aggregate_fit: received 20 results and 0 failures\n",
      "\u001b[91mERROR \u001b[0m: ServerApp thread raised an exception: 'MedicalDistillationStrategy' object has no attribute 'train_distillation'\n",
      "\u001b[91mERROR \u001b[0m: Traceback (most recent call last):\n",
      "  File \"/home/msc2024/ra214616/ra214616_files/flower_tutorial/L3_Federated_LLM_Fine-tuning/env_l3/lib/python3.10/site-packages/flwr/simulation/run_simulation.py\", line 292, in server_th_with_start_checks\n",
      "    run_server_app(\n",
      "  File \"/home/msc2024/ra214616/ra214616_files/flower_tutorial/L3_Federated_LLM_Fine-tuning/env_l3/lib/python3.10/site-packages/flwr/server/run_serverapp.py\", line 84, in run\n",
      "    server_app(driver=driver, context=context)\n",
      "  File \"/home/msc2024/ra214616/ra214616_files/flower_tutorial/L3_Federated_LLM_Fine-tuning/env_l3/lib/python3.10/site-packages/flwr/server/server_app.py\", line 120, in __call__\n",
      "    start_driver(\n",
      "  File \"/home/msc2024/ra214616/ra214616_files/flower_tutorial/L3_Federated_LLM_Fine-tuning/env_l3/lib/python3.10/site-packages/flwr/server/compat/app.py\", line 90, in start_driver\n",
      "    hist = run_fl(\n",
      "  File \"/home/msc2024/ra214616/ra214616_files/flower_tutorial/L3_Federated_LLM_Fine-tuning/env_l3/lib/python3.10/site-packages/flwr/server/server.py\", line 490, in run_fl\n",
      "    hist, elapsed_time = server.fit(\n",
      "  File \"/home/msc2024/ra214616/ra214616_files/flower_tutorial/L3_Federated_LLM_Fine-tuning/env_l3/lib/python3.10/site-packages/flwr/server/server.py\", line 113, in fit\n",
      "    res_fit = self.fit_round(\n",
      "  File \"/home/msc2024/ra214616/ra214616_files/flower_tutorial/L3_Federated_LLM_Fine-tuning/env_l3/lib/python3.10/site-packages/flwr/server/server.py\", line 249, in fit_round\n",
      "    ] = self.strategy.aggregate_fit(server_round, results, failures)\n",
      "  File \"/home/msc2024/ra214616/ra214616_files/flower_tutorial/L3_Federated_LLM_Fine-tuning/env_l3/lib/python3.10/site-packages/flwr/server/strategy/dp_fixed_clipping.py\", line 326, in aggregate_fit\n",
      "    aggregated_params, metrics = self.strategy.aggregate_fit(\n",
      "  File \"/tmp/ipykernel_222333/331299969.py\", line 56, in aggregate_fit\n",
      "    self.train_distillation(distiller, epochs=self.kd_epochs)\n",
      "AttributeError: 'MedicalDistillationStrategy' object has no attribute 'train_distillation'\n",
      "\n",
      "Exception in thread Thread-28 (server_th_with_start_checks):\n",
      "Traceback (most recent call last):\n",
      "  File \"/usr/lib/python3.10/threading.py\", line 1016, in _bootstrap_inner\n",
      "    self.run()\n",
      "  File \"/home/msc2024/ra214616/ra214616_files/flower_tutorial/L3_Federated_LLM_Fine-tuning/env_l3/lib/python3.10/site-packages/ipykernel/ipkernel.py\", line 766, in run_closure\n",
      "    _threading_Thread_run(self)\n",
      "  File \"/usr/lib/python3.10/threading.py\", line 953, in run\n",
      "    self._target(*self._args, **self._kwargs)\n",
      "  File \"/home/msc2024/ra214616/ra214616_files/flower_tutorial/L3_Federated_LLM_Fine-tuning/env_l3/lib/python3.10/site-packages/flwr/simulation/run_simulation.py\", line 292, in server_th_with_start_checks\n",
      "    run_server_app(\n",
      "  File \"/home/msc2024/ra214616/ra214616_files/flower_tutorial/L3_Federated_LLM_Fine-tuning/env_l3/lib/python3.10/site-packages/flwr/server/run_serverapp.py\", line 84, in run\n",
      "    server_app(driver=driver, context=context)\n",
      "  File \"/home/msc2024/ra214616/ra214616_files/flower_tutorial/L3_Federated_LLM_Fine-tuning/env_l3/lib/python3.10/site-packages/flwr/server/server_app.py\", line 120, in __call__\n",
      "    start_driver(\n",
      "  File \"/home/msc2024/ra214616/ra214616_files/flower_tutorial/L3_Federated_LLM_Fine-tuning/env_l3/lib/python3.10/site-packages/flwr/server/compat/app.py\", line 90, in start_driver\n",
      "    hist = run_fl(\n",
      "  File \"/home/msc2024/ra214616/ra214616_files/flower_tutorial/L3_Federated_LLM_Fine-tuning/env_l3/lib/python3.10/site-packages/flwr/server/server.py\", line 490, in run_fl\n",
      "    hist, elapsed_time = server.fit(\n",
      "  File \"/home/msc2024/ra214616/ra214616_files/flower_tutorial/L3_Federated_LLM_Fine-tuning/env_l3/lib/python3.10/site-packages/flwr/server/server.py\", line 113, in fit\n",
      "    res_fit = self.fit_round(\n",
      "  File \"/home/msc2024/ra214616/ra214616_files/flower_tutorial/L3_Federated_LLM_Fine-tuning/env_l3/lib/python3.10/site-packages/flwr/server/server.py\", line 249, in fit_round\n",
      "    ] = self.strategy.aggregate_fit(server_round, results, failures)\n",
      "  File \"/home/msc2024/ra214616/ra214616_files/flower_tutorial/L3_Federated_LLM_Fine-tuning/env_l3/lib/python3.10/site-packages/flwr/server/strategy/dp_fixed_clipping.py\", line 326, in aggregate_fit\n",
      "    aggregated_params, metrics = self.strategy.aggregate_fit(\n",
      "  File \"/tmp/ipykernel_222333/331299969.py\", line 56, in aggregate_fit\n",
      "AttributeError: 'MedicalDistillationStrategy' object has no attribute 'train_distillation'\n"
     ]
    },
    {
     "name": "stdout",
     "output_type": "stream",
     "text": [
      "Parameter shape mismatch for base_model.model.gpt_neox.embed_in.weight: expected torch.Size([50304, 128]), got (16, 128)\n",
      "Parameter shape mismatch for base_model.model.gpt_neox.layers.0.input_layernorm.weight: expected torch.Size([128]), got (384, 16)\n",
      "Parameter shape mismatch for base_model.model.gpt_neox.layers.0.input_layernorm.bias: expected torch.Size([128]), got (16, 128)\n",
      "Parameter shape mismatch for base_model.model.gpt_neox.layers.0.post_attention_layernorm.weight: expected torch.Size([128]), got (384, 16)\n",
      "Parameter shape mismatch for base_model.model.gpt_neox.layers.0.post_attention_layernorm.bias: expected torch.Size([128]), got (16, 128)\n",
      "Parameter shape mismatch for base_model.model.gpt_neox.layers.0.attention.bias: expected torch.Size([1, 1, 2048, 2048]), got (384, 16)\n",
      "Parameter shape mismatch for base_model.model.gpt_neox.layers.0.attention.masked_bias: expected torch.Size([]), got (16, 128)\n",
      "Parameter shape mismatch for base_model.model.gpt_neox.layers.0.attention.rotary_emb.inv_freq: expected torch.Size([4]), got (384, 16)\n",
      "Parameter shape mismatch for base_model.model.gpt_neox.layers.0.attention.query_key_value.weight: expected torch.Size([384, 128]), got (16, 128)\n",
      "Parameter shape mismatch for base_model.model.gpt_neox.layers.0.attention.query_key_value.bias: expected torch.Size([384]), got (384, 16)\n"
     ]
    },
    {
     "ename": "RuntimeError",
     "evalue": "Exception in ServerApp thread",
     "output_type": "error",
     "traceback": [
      "\u001b[0;31m---------------------------------------------------------------------------\u001b[0m",
      "\u001b[0;31mRuntimeError\u001b[0m                              Traceback (most recent call last)",
      "Cell \u001b[0;32mIn[72], line 1\u001b[0m\n\u001b[0;32m----> 1\u001b[0m \u001b[43mfl\u001b[49m\u001b[38;5;241;43m.\u001b[39;49m\u001b[43msimulation\u001b[49m\u001b[38;5;241;43m.\u001b[39;49m\u001b[43mrun_simulation\u001b[49m\u001b[43m(\u001b[49m\n\u001b[1;32m      2\u001b[0m \u001b[43m    \u001b[49m\u001b[43mserver_app\u001b[49m\u001b[38;5;241;43m=\u001b[39;49m\u001b[43mserver\u001b[49m\u001b[43m,\u001b[49m\n\u001b[1;32m      3\u001b[0m \u001b[43m    \u001b[49m\u001b[43mclient_app\u001b[49m\u001b[38;5;241;43m=\u001b[39;49m\u001b[43mclient\u001b[49m\u001b[43m,\u001b[49m\n\u001b[1;32m      4\u001b[0m \u001b[43m    \u001b[49m\u001b[43mnum_supernodes\u001b[49m\u001b[38;5;241;43m=\u001b[39;49m\u001b[43mcfg\u001b[49m\u001b[38;5;241;43m.\u001b[39;49m\u001b[43mflower\u001b[49m\u001b[38;5;241;43m.\u001b[39;49m\u001b[43mnum_clients\u001b[49m\u001b[43m,\u001b[49m\n\u001b[1;32m      5\u001b[0m \u001b[43m    \u001b[49m\u001b[43mbackend_config\u001b[49m\u001b[38;5;241;43m=\u001b[39;49m\u001b[43m{\u001b[49m\u001b[38;5;124;43m\"\u001b[39;49m\u001b[38;5;124;43mclient_resources\u001b[39;49m\u001b[38;5;124;43m\"\u001b[39;49m\u001b[43m:\u001b[49m\u001b[43m \u001b[49m\u001b[43mclient_resources\u001b[49m\u001b[43m,\u001b[49m\n\u001b[1;32m      6\u001b[0m \u001b[43m                    \u001b[49m\u001b[38;5;124;43m\"\u001b[39;49m\u001b[38;5;124;43minit_args\u001b[39;49m\u001b[38;5;124;43m\"\u001b[39;49m\u001b[43m:\u001b[49m\u001b[43m \u001b[49m\u001b[43mbackend_setup\u001b[49m\u001b[43m}\u001b[49m\n\u001b[1;32m      7\u001b[0m \u001b[43m)\u001b[49m\n",
      "File \u001b[0;32m/home/msc2024/ra214616/ra214616_files/flower_tutorial/L3_Federated_LLM_Fine-tuning/env_l3/lib/python3.10/site-packages/flwr/simulation/run_simulation.py:247\u001b[0m, in \u001b[0;36mrun_simulation\u001b[0;34m(server_app, client_app, num_supernodes, backend_name, backend_config, enable_tf_gpu_growth, verbose_logging)\u001b[0m\n\u001b[1;32m    238\u001b[0m \u001b[38;5;28;01mif\u001b[39;00m enable_tf_gpu_growth:\n\u001b[1;32m    239\u001b[0m     warn_deprecated_feature_with_example(\n\u001b[1;32m    240\u001b[0m         \u001b[38;5;124m\"\u001b[39m\u001b[38;5;124mPassing `enable_tf_gpu_growth=True` is deprecated.\u001b[39m\u001b[38;5;124m\"\u001b[39m,\n\u001b[1;32m    241\u001b[0m         example_message\u001b[38;5;241m=\u001b[39m\u001b[38;5;124m\"\u001b[39m\u001b[38;5;124mInstead, set the `TF_FORCE_GPU_ALLOW_GROWTH` environmnet \u001b[39m\u001b[38;5;124m\"\u001b[39m\n\u001b[0;32m   (...)\u001b[0m\n\u001b[1;32m    244\u001b[0m         \u001b[38;5;124m\"\u001b[39m\u001b[38;5;130;01m\\n\u001b[39;00m\u001b[38;5;130;01m\\t\u001b[39;00m\u001b[38;5;124mflwr.simulation.run_simulationt(...)\u001b[39m\u001b[38;5;124m\"\u001b[39m,\n\u001b[1;32m    245\u001b[0m     )\n\u001b[0;32m--> 247\u001b[0m \u001b[43m_run_simulation\u001b[49m\u001b[43m(\u001b[49m\n\u001b[1;32m    248\u001b[0m \u001b[43m    \u001b[49m\u001b[43mnum_supernodes\u001b[49m\u001b[38;5;241;43m=\u001b[39;49m\u001b[43mnum_supernodes\u001b[49m\u001b[43m,\u001b[49m\n\u001b[1;32m    249\u001b[0m \u001b[43m    \u001b[49m\u001b[43mclient_app\u001b[49m\u001b[38;5;241;43m=\u001b[39;49m\u001b[43mclient_app\u001b[49m\u001b[43m,\u001b[49m\n\u001b[1;32m    250\u001b[0m \u001b[43m    \u001b[49m\u001b[43mserver_app\u001b[49m\u001b[38;5;241;43m=\u001b[39;49m\u001b[43mserver_app\u001b[49m\u001b[43m,\u001b[49m\n\u001b[1;32m    251\u001b[0m \u001b[43m    \u001b[49m\u001b[43mbackend_name\u001b[49m\u001b[38;5;241;43m=\u001b[39;49m\u001b[43mbackend_name\u001b[49m\u001b[43m,\u001b[49m\n\u001b[1;32m    252\u001b[0m \u001b[43m    \u001b[49m\u001b[43mbackend_config\u001b[49m\u001b[38;5;241;43m=\u001b[39;49m\u001b[43mbackend_config\u001b[49m\u001b[43m,\u001b[49m\n\u001b[1;32m    253\u001b[0m \u001b[43m    \u001b[49m\u001b[43menable_tf_gpu_growth\u001b[49m\u001b[38;5;241;43m=\u001b[39;49m\u001b[43menable_tf_gpu_growth\u001b[49m\u001b[43m,\u001b[49m\n\u001b[1;32m    254\u001b[0m \u001b[43m    \u001b[49m\u001b[43mverbose_logging\u001b[49m\u001b[38;5;241;43m=\u001b[39;49m\u001b[43mverbose_logging\u001b[49m\u001b[43m,\u001b[49m\n\u001b[1;32m    255\u001b[0m \u001b[43m\u001b[49m\u001b[43m)\u001b[49m\n",
      "File \u001b[0;32m/home/msc2024/ra214616/ra214616_files/flower_tutorial/L3_Federated_LLM_Fine-tuning/env_l3/lib/python3.10/site-packages/flwr/simulation/run_simulation.py:569\u001b[0m, in \u001b[0;36m_run_simulation\u001b[0;34m(num_supernodes, client_app, server_app, backend_name, backend_config, client_app_attr, server_app_attr, server_app_run_config, app_dir, flwr_dir, run, enable_tf_gpu_growth, verbose_logging, is_app)\u001b[0m\n\u001b[1;32m    565\u001b[0m \u001b[38;5;28;01mif\u001b[39;00m asyncio_loop_running:\n\u001b[1;32m    566\u001b[0m     \u001b[38;5;66;03m# Set logger propagation to False to prevent duplicated log output in Colab.\u001b[39;00m\n\u001b[1;32m    567\u001b[0m     logger \u001b[38;5;241m=\u001b[39m set_logger_propagation(logger, \u001b[38;5;28;01mFalse\u001b[39;00m)\n\u001b[0;32m--> 569\u001b[0m \u001b[43m_main_loop\u001b[49m\u001b[43m(\u001b[49m\u001b[38;5;241;43m*\u001b[39;49m\u001b[43margs\u001b[49m\u001b[43m)\u001b[49m\n",
      "File \u001b[0;32m/home/msc2024/ra214616/ra214616_files/flower_tutorial/L3_Federated_LLM_Fine-tuning/env_l3/lib/python3.10/site-packages/flwr/simulation/run_simulation.py:405\u001b[0m, in \u001b[0;36m_main_loop\u001b[0;34m(num_supernodes, backend_name, backend_config_stream, app_dir, is_app, enable_tf_gpu_growth, run, flwr_dir, client_app, client_app_attr, server_app, server_app_attr, server_app_run_config)\u001b[0m\n\u001b[1;32m    403\u001b[0m         serverapp_th\u001b[38;5;241m.\u001b[39mjoin()\n\u001b[1;32m    404\u001b[0m         \u001b[38;5;28;01mif\u001b[39;00m server_app_thread_has_exception\u001b[38;5;241m.\u001b[39mis_set():\n\u001b[0;32m--> 405\u001b[0m             \u001b[38;5;28;01mraise\u001b[39;00m \u001b[38;5;167;01mRuntimeError\u001b[39;00m(\u001b[38;5;124m\"\u001b[39m\u001b[38;5;124mException in ServerApp thread\u001b[39m\u001b[38;5;124m\"\u001b[39m)\n\u001b[1;32m    407\u001b[0m log(DEBUG, \u001b[38;5;124m\"\u001b[39m\u001b[38;5;124mStopping Simulation Engine now.\u001b[39m\u001b[38;5;124m\"\u001b[39m)\n",
      "\u001b[0;31mRuntimeError\u001b[0m: Exception in ServerApp thread"
     ]
    }
   ],
   "source": [
    "fl.simulation.run_simulation(\n",
    "    server_app=server,\n",
    "    client_app=client,\n",
    "    num_supernodes=cfg.flower.num_clients,\n",
    "    backend_config={\"client_resources\": client_resources,\n",
    "                    \"init_args\": backend_setup}\n",
    ")"
   ]
  },
  {
   "cell_type": "code",
   "execution_count": 140,
   "id": "443abf61",
   "metadata": {},
   "outputs": [
    {
     "name": "stdout",
     "output_type": "stream",
     "text": [
      "Teacher config: GPTNeoXConfig {\n",
      "  \"_name_or_path\": \"EleutherAI/pythia-70m\",\n",
      "  \"architectures\": [\n",
      "    \"GPTNeoXForCausalLM\"\n",
      "  ],\n",
      "  \"bos_token_id\": 0,\n",
      "  \"eos_token_id\": 0,\n",
      "  \"hidden_act\": \"gelu\",\n",
      "  \"hidden_size\": 512,\n",
      "  \"initializer_range\": 0.02,\n",
      "  \"intermediate_size\": 2048,\n",
      "  \"layer_norm_eps\": 1e-05,\n",
      "  \"max_position_embeddings\": 2048,\n",
      "  \"model_type\": \"gpt_neox\",\n",
      "  \"num_attention_heads\": 8,\n",
      "  \"num_hidden_layers\": 6,\n",
      "  \"rotary_emb_base\": 10000,\n",
      "  \"rotary_pct\": 0.25,\n",
      "  \"tie_word_embeddings\": false,\n",
      "  \"torch_dtype\": \"float16\",\n",
      "  \"transformers_version\": \"4.28.1\",\n",
      "  \"use_cache\": true,\n",
      "  \"use_parallel_residual\": true,\n",
      "  \"vocab_size\": 50304\n",
      "}\n",
      "\n",
      "Student config: GPTNeoXConfig {\n",
      "  \"_name_or_path\": \"EleutherAI/pythia-14m\",\n",
      "  \"architectures\": [\n",
      "    \"GPTNeoXForCausalLM\"\n",
      "  ],\n",
      "  \"bos_token_id\": 0,\n",
      "  \"classifier_dropout\": 0.1,\n",
      "  \"eos_token_id\": 0,\n",
      "  \"hidden_act\": \"gelu\",\n",
      "  \"hidden_size\": 128,\n",
      "  \"initializer_range\": 0.02,\n",
      "  \"intermediate_size\": 512,\n",
      "  \"layer_norm_eps\": 1e-05,\n",
      "  \"max_position_embeddings\": 2048,\n",
      "  \"model_type\": \"gpt_neox\",\n",
      "  \"num_attention_heads\": 4,\n",
      "  \"num_hidden_layers\": 6,\n",
      "  \"rotary_emb_base\": 10000,\n",
      "  \"rotary_pct\": 0.25,\n",
      "  \"tie_word_embeddings\": false,\n",
      "  \"torch_dtype\": \"float16\",\n",
      "  \"transformers_version\": \"4.28.1\",\n",
      "  \"use_cache\": true,\n",
      "  \"use_parallel_residual\": true,\n",
      "  \"vocab_size\": 50304\n",
      "}\n",
      "\n"
     ]
    }
   ],
   "source": [
    "from transformers import AutoConfig\n",
    "\n",
    "# Verificar configuraciones\n",
    "teacher_config = AutoConfig.from_pretrained(\"EleutherAI/pythia-70m\")\n",
    "student_config = AutoConfig.from_pretrained(\"EleutherAI/pythia-14m\")\n",
    "\n",
    "print(\"Teacher config:\", teacher_config)\n",
    "print(\"Student config:\", student_config)\n",
    "\n",
    "# Asegurar que sean de la misma familia\n",
    "assert teacher_config.model_type == student_config.model_type, \"Modelos de diferentes familias\""
   ]
  },
  {
   "cell_type": "code",
   "execution_count": 141,
   "id": "d7948e0b",
   "metadata": {},
   "outputs": [
    {
     "data": {
      "text/plain": [
       "[array([[-0.05378198, -0.01900361,  0.04226563, ..., -0.05299335,\n",
       "         -0.03583983,  0.0821731 ],\n",
       "        [-0.05377292, -0.02840527,  0.06369174, ..., -0.08558166,\n",
       "         -0.08187357,  0.02121933],\n",
       "        [ 0.03060593, -0.07005382,  0.03969994, ..., -0.06235916,\n",
       "         -0.02080983,  0.01090472],\n",
       "        ...,\n",
       "        [-0.0357515 , -0.0153382 ,  0.07195558, ..., -0.01805309,\n",
       "         -0.04007423,  0.00512003],\n",
       "        [ 0.01257346, -0.02082921, -0.07955932, ...,  0.07379504,\n",
       "         -0.04892584,  0.01678924],\n",
       "        [ 0.07396377, -0.05141231,  0.02698043, ...,  0.01484239,\n",
       "         -0.03868378,  0.02271052]], dtype=float32),\n",
       " array([[0., 0., 0., ..., 0., 0., 0.],\n",
       "        [0., 0., 0., ..., 0., 0., 0.],\n",
       "        [0., 0., 0., ..., 0., 0., 0.],\n",
       "        ...,\n",
       "        [0., 0., 0., ..., 0., 0., 0.],\n",
       "        [0., 0., 0., ..., 0., 0., 0.],\n",
       "        [0., 0., 0., ..., 0., 0., 0.]], dtype=float32),\n",
       " array([[ 0.00769919,  0.0353638 ,  0.02258437, ..., -0.05329717,\n",
       "         -0.02104354,  0.00844621],\n",
       "        [ 0.03004837, -0.01687265, -0.0079787 , ..., -0.03984547,\n",
       "         -0.00290066,  0.00953748],\n",
       "        [-0.08221103,  0.03880513,  0.06785657, ..., -0.01364369,\n",
       "          0.02400323,  0.03909955],\n",
       "        ...,\n",
       "        [-0.0683051 , -0.05033832,  0.00919421, ..., -0.01348725,\n",
       "          0.01693647, -0.06565933],\n",
       "        [-0.00228161, -0.04446637,  0.04420405, ...,  0.05419534,\n",
       "         -0.07467242,  0.04426324],\n",
       "        [-0.07868027, -0.02653393, -0.0537417 , ..., -0.0160809 ,\n",
       "          0.0834185 , -0.08679555]], dtype=float32),\n",
       " array([[0., 0., 0., ..., 0., 0., 0.],\n",
       "        [0., 0., 0., ..., 0., 0., 0.],\n",
       "        [0., 0., 0., ..., 0., 0., 0.],\n",
       "        ...,\n",
       "        [0., 0., 0., ..., 0., 0., 0.],\n",
       "        [0., 0., 0., ..., 0., 0., 0.],\n",
       "        [0., 0., 0., ..., 0., 0., 0.]], dtype=float32),\n",
       " array([[-0.08708677, -0.0879883 , -0.00817977, ..., -0.00117677,\n",
       "         -0.06423419, -0.07711343],\n",
       "        [ 0.07812736, -0.00508806,  0.05155969, ...,  0.0634656 ,\n",
       "         -0.01235956, -0.05028157],\n",
       "        [ 0.03677635,  0.00092159,  0.02346097, ...,  0.02142585,\n",
       "         -0.04811504, -0.00344603],\n",
       "        ...,\n",
       "        [ 0.07991413, -0.00734343, -0.08319085, ...,  0.02296201,\n",
       "          0.04892333,  0.05863643],\n",
       "        [-0.03665803,  0.06408688, -0.03624899, ..., -0.08123007,\n",
       "         -0.01437498, -0.06044349],\n",
       "        [ 0.02729556, -0.0433489 ,  0.08217476, ..., -0.04285042,\n",
       "         -0.07793363, -0.07855707]], dtype=float32),\n",
       " array([[0., 0., 0., ..., 0., 0., 0.],\n",
       "        [0., 0., 0., ..., 0., 0., 0.],\n",
       "        [0., 0., 0., ..., 0., 0., 0.],\n",
       "        ...,\n",
       "        [0., 0., 0., ..., 0., 0., 0.],\n",
       "        [0., 0., 0., ..., 0., 0., 0.],\n",
       "        [0., 0., 0., ..., 0., 0., 0.]], dtype=float32),\n",
       " array([[-0.02982911,  0.01766612, -0.03655747, ...,  0.02791818,\n",
       "         -0.04221586, -0.02516399],\n",
       "        [ 0.02187882,  0.04118762, -0.0341381 , ...,  0.02766039,\n",
       "          0.01185259, -0.0131483 ],\n",
       "        [ 0.00579436,  0.0164851 ,  0.03179255, ..., -0.01086791,\n",
       "         -0.02480371,  0.03159538],\n",
       "        ...,\n",
       "        [-0.02060233,  0.03557958,  0.02622647, ...,  0.00057658,\n",
       "         -0.00865443,  0.04080286],\n",
       "        [ 0.01968696, -0.04320503,  0.00014268, ..., -0.04258386,\n",
       "          0.03610678,  0.04097524],\n",
       "        [ 0.03227602,  0.00625465,  0.03240235, ..., -0.01611791,\n",
       "          0.01327855, -0.03588803]], dtype=float32),\n",
       " array([[0., 0., 0., ..., 0., 0., 0.],\n",
       "        [0., 0., 0., ..., 0., 0., 0.],\n",
       "        [0., 0., 0., ..., 0., 0., 0.],\n",
       "        ...,\n",
       "        [0., 0., 0., ..., 0., 0., 0.],\n",
       "        [0., 0., 0., ..., 0., 0., 0.],\n",
       "        [0., 0., 0., ..., 0., 0., 0.]], dtype=float32),\n",
       " array([[-0.08456967,  0.03641157,  0.01289726, ..., -0.05256018,\n",
       "         -0.04551395, -0.043966  ],\n",
       "        [-0.07996726, -0.00206819,  0.03713857, ..., -0.01513503,\n",
       "         -0.00239649, -0.06107976],\n",
       "        [ 0.07198125, -0.02675535,  0.02963125, ...,  0.06877931,\n",
       "         -0.06836025, -0.00277688],\n",
       "        ...,\n",
       "        [-0.02662819, -0.00414623, -0.08482175, ..., -0.07373852,\n",
       "          0.03122235,  0.0066299 ],\n",
       "        [-0.07522333,  0.00036616,  0.06523723, ...,  0.01407589,\n",
       "          0.00452944,  0.0306132 ],\n",
       "        [-0.05821508,  0.00908124,  0.07210682, ..., -0.06743565,\n",
       "         -0.03415032,  0.08255681]], dtype=float32),\n",
       " array([[0., 0., 0., ..., 0., 0., 0.],\n",
       "        [0., 0., 0., ..., 0., 0., 0.],\n",
       "        [0., 0., 0., ..., 0., 0., 0.],\n",
       "        ...,\n",
       "        [0., 0., 0., ..., 0., 0., 0.],\n",
       "        [0., 0., 0., ..., 0., 0., 0.],\n",
       "        [0., 0., 0., ..., 0., 0., 0.]], dtype=float32),\n",
       " array([[-0.02162562, -0.01194009, -0.08329779, ...,  0.00909651,\n",
       "         -0.07315324, -0.01441062],\n",
       "        [ 0.05958346,  0.05671332, -0.05325493, ...,  0.00149499,\n",
       "         -0.01954636, -0.02557944],\n",
       "        [-0.05010678,  0.08785158, -0.00814605, ..., -0.06545749,\n",
       "          0.01288756,  0.01729594],\n",
       "        ...,\n",
       "        [-0.076264  ,  0.0872532 ,  0.04325725, ..., -0.01978359,\n",
       "          0.00284077,  0.03441602],\n",
       "        [-0.02137823,  0.063125  ,  0.07756511, ..., -0.01728519,\n",
       "         -0.02501746,  0.04983656],\n",
       "        [ 0.03952599, -0.01258538,  0.03198792, ...,  0.07023804,\n",
       "         -0.03730416,  0.02977263]], dtype=float32),\n",
       " array([[0., 0., 0., ..., 0., 0., 0.],\n",
       "        [0., 0., 0., ..., 0., 0., 0.],\n",
       "        [0., 0., 0., ..., 0., 0., 0.],\n",
       "        ...,\n",
       "        [0., 0., 0., ..., 0., 0., 0.],\n",
       "        [0., 0., 0., ..., 0., 0., 0.],\n",
       "        [0., 0., 0., ..., 0., 0., 0.]], dtype=float32),\n",
       " array([[ 0.07679554,  0.04143941, -0.06670707, ..., -0.00637981,\n",
       "          0.00291825,  0.01919928],\n",
       "        [ 0.06821848, -0.07964694, -0.05074589, ..., -0.02030449,\n",
       "         -0.00481696, -0.05480529],\n",
       "        [ 0.07959915,  0.03884957, -0.06195145, ..., -0.01564399,\n",
       "         -0.00591774, -0.05902767],\n",
       "        ...,\n",
       "        [-0.07718215,  0.00133547,  0.02568582, ...,  0.00229504,\n",
       "          0.06405679,  0.0618847 ],\n",
       "        [-0.00729233,  0.08491565, -0.04863465, ...,  0.0132927 ,\n",
       "          0.00787889,  0.07165531],\n",
       "        [ 0.08465464, -0.0830931 , -0.06116563, ..., -0.06736743,\n",
       "          0.0013652 ,  0.0241191 ]], dtype=float32),\n",
       " array([[0., 0., 0., ..., 0., 0., 0.],\n",
       "        [0., 0., 0., ..., 0., 0., 0.],\n",
       "        [0., 0., 0., ..., 0., 0., 0.],\n",
       "        ...,\n",
       "        [0., 0., 0., ..., 0., 0., 0.],\n",
       "        [0., 0., 0., ..., 0., 0., 0.],\n",
       "        [0., 0., 0., ..., 0., 0., 0.]], dtype=float32),\n",
       " array([[-0.00485475,  0.00515354, -0.04077625, ...,  0.03163127,\n",
       "         -0.04172146, -0.04104263],\n",
       "        [ 0.03398165, -0.03558307,  0.02178684, ..., -0.04175941,\n",
       "         -0.03133744,  0.00624819],\n",
       "        [-0.02542732, -0.02444893,  0.03945088, ...,  0.00040333,\n",
       "          0.02708578, -0.0200351 ],\n",
       "        ...,\n",
       "        [ 0.02815571,  0.00670288,  0.01115326, ..., -0.00893102,\n",
       "         -0.01363064,  0.03378903],\n",
       "        [ 0.04156041,  0.02878597, -0.04054483, ...,  0.03841035,\n",
       "         -0.0179131 ,  0.02482633],\n",
       "        [ 0.03981632,  0.02517945,  0.02765352, ..., -0.03551218,\n",
       "         -0.03677428, -0.01491014]], dtype=float32),\n",
       " array([[0., 0., 0., ..., 0., 0., 0.],\n",
       "        [0., 0., 0., ..., 0., 0., 0.],\n",
       "        [0., 0., 0., ..., 0., 0., 0.],\n",
       "        ...,\n",
       "        [0., 0., 0., ..., 0., 0., 0.],\n",
       "        [0., 0., 0., ..., 0., 0., 0.],\n",
       "        [0., 0., 0., ..., 0., 0., 0.]], dtype=float32),\n",
       " array([[-0.02819671, -0.07539345,  0.02638068, ..., -0.05897354,\n",
       "          0.00191792, -0.07012159],\n",
       "        [-0.02147244,  0.05612824,  0.07216557, ..., -0.01733798,\n",
       "         -0.0736722 ,  0.02395225],\n",
       "        [-0.06922214, -0.07499088, -0.01347499, ...,  0.0366405 ,\n",
       "          0.01766533, -0.02289378],\n",
       "        ...,\n",
       "        [ 0.03033551,  0.03940937,  0.00283182, ..., -0.04695525,\n",
       "          0.07699101, -0.06912613],\n",
       "        [-0.03377021,  0.0168319 ,  0.06558036, ..., -0.01180363,\n",
       "          0.03033472, -0.07410633],\n",
       "        [ 0.05542273,  0.0668207 ,  0.03303051, ...,  0.03811507,\n",
       "         -0.03623615, -0.02456365]], dtype=float32),\n",
       " array([[0., 0., 0., ..., 0., 0., 0.],\n",
       "        [0., 0., 0., ..., 0., 0., 0.],\n",
       "        [0., 0., 0., ..., 0., 0., 0.],\n",
       "        ...,\n",
       "        [0., 0., 0., ..., 0., 0., 0.],\n",
       "        [0., 0., 0., ..., 0., 0., 0.],\n",
       "        [0., 0., 0., ..., 0., 0., 0.]], dtype=float32),\n",
       " array([[ 0.05566285, -0.00809517,  0.0717895 , ..., -0.04519416,\n",
       "         -0.02377765, -0.07842444],\n",
       "        [ 0.07059047, -0.02438231,  0.01482661, ..., -0.00124257,\n",
       "         -0.01174208,  0.05502398],\n",
       "        [ 0.04807907, -0.07306531,  0.06991042, ...,  0.0791838 ,\n",
       "         -0.02909047,  0.03469946],\n",
       "        ...,\n",
       "        [ 0.01064425, -0.07638755, -0.01382307, ...,  0.05147168,\n",
       "          0.06384149,  0.02664104],\n",
       "        [ 0.06583437, -0.01395603,  0.00388476, ...,  0.00459021,\n",
       "         -0.06555796,  0.0624438 ],\n",
       "        [ 0.06750566,  0.06221091, -0.02743999, ..., -0.03875993,\n",
       "         -0.04396693, -0.00027317]], dtype=float32),\n",
       " array([[0., 0., 0., ..., 0., 0., 0.],\n",
       "        [0., 0., 0., ..., 0., 0., 0.],\n",
       "        [0., 0., 0., ..., 0., 0., 0.],\n",
       "        ...,\n",
       "        [0., 0., 0., ..., 0., 0., 0.],\n",
       "        [0., 0., 0., ..., 0., 0., 0.],\n",
       "        [0., 0., 0., ..., 0., 0., 0.]], dtype=float32),\n",
       " array([[-0.04061488,  0.00033019,  0.07400964, ..., -0.02413698,\n",
       "         -0.00623143, -0.04281032],\n",
       "        [ 0.00548166,  0.02154309,  0.04598279, ..., -0.08760256,\n",
       "         -0.0810688 ,  0.0789543 ],\n",
       "        [-0.01427589, -0.0308099 ,  0.08428799, ...,  0.0234851 ,\n",
       "         -0.01177073,  0.07012728],\n",
       "        ...,\n",
       "        [ 0.00153586, -0.05216171, -0.00377097, ..., -0.04496499,\n",
       "         -0.0057393 , -0.02191476],\n",
       "        [-0.03656051, -0.0218198 , -0.02343702, ..., -0.02178101,\n",
       "         -0.05494542, -0.07286667],\n",
       "        [-0.08822591,  0.05016511,  0.07927825, ..., -0.02719384,\n",
       "          0.06728209, -0.06543629]], dtype=float32),\n",
       " array([[0., 0., 0., ..., 0., 0., 0.],\n",
       "        [0., 0., 0., ..., 0., 0., 0.],\n",
       "        [0., 0., 0., ..., 0., 0., 0.],\n",
       "        ...,\n",
       "        [0., 0., 0., ..., 0., 0., 0.],\n",
       "        [0., 0., 0., ..., 0., 0., 0.],\n",
       "        [0., 0., 0., ..., 0., 0., 0.]], dtype=float32),\n",
       " array([[ 0.0264101 ,  0.03327045,  0.03792965, ..., -0.04107467,\n",
       "          0.02846455,  0.0261013 ],\n",
       "        [ 0.03942961,  0.01908887,  0.00784523, ..., -0.01913444,\n",
       "         -0.00196071,  0.03850284],\n",
       "        [ 0.03777945, -0.04257067, -0.02679155, ..., -0.02493617,\n",
       "          0.02780773,  0.03353489],\n",
       "        ...,\n",
       "        [ 0.0090807 ,  0.0166096 ,  0.04192994, ...,  0.00908455,\n",
       "         -0.03050376, -0.03949641],\n",
       "        [-0.03289965, -0.02834399,  0.03048365, ..., -0.02484291,\n",
       "         -0.00654037,  0.02653867],\n",
       "        [ 0.03762612, -0.011997  ,  0.01435877, ..., -0.01507548,\n",
       "          0.00103065,  0.00257229]], dtype=float32),\n",
       " array([[0., 0., 0., ..., 0., 0., 0.],\n",
       "        [0., 0., 0., ..., 0., 0., 0.],\n",
       "        [0., 0., 0., ..., 0., 0., 0.],\n",
       "        ...,\n",
       "        [0., 0., 0., ..., 0., 0., 0.],\n",
       "        [0., 0., 0., ..., 0., 0., 0.],\n",
       "        [0., 0., 0., ..., 0., 0., 0.]], dtype=float32),\n",
       " array([[-0.0172431 , -0.06552351, -0.01040709, ...,  0.04895553,\n",
       "         -0.03480045,  0.05601531],\n",
       "        [-0.05074311, -0.08093376,  0.00152156, ..., -0.07121657,\n",
       "         -0.08012445, -0.02455876],\n",
       "        [ 0.01547012,  0.07728327, -0.06259914, ..., -0.00408579,\n",
       "          0.02955853, -0.02488016],\n",
       "        ...,\n",
       "        [ 0.01371844,  0.0261201 , -0.0580944 , ..., -0.05927603,\n",
       "         -0.0342236 ,  0.05274461],\n",
       "        [ 0.02100023,  0.06469734, -0.05528931, ...,  0.08003524,\n",
       "          0.05968468,  0.00531568],\n",
       "        [-0.05885521,  0.01741344,  0.08205818, ..., -0.04215785,\n",
       "          0.04828317, -0.03829517]], dtype=float32),\n",
       " array([[0., 0., 0., ..., 0., 0., 0.],\n",
       "        [0., 0., 0., ..., 0., 0., 0.],\n",
       "        [0., 0., 0., ..., 0., 0., 0.],\n",
       "        ...,\n",
       "        [0., 0., 0., ..., 0., 0., 0.],\n",
       "        [0., 0., 0., ..., 0., 0., 0.],\n",
       "        [0., 0., 0., ..., 0., 0., 0.]], dtype=float32),\n",
       " array([[ 0.06652042, -0.05232795,  0.06616584, ...,  0.00294766,\n",
       "         -0.03027282,  0.05381463],\n",
       "        [ 0.08374841,  0.01653628,  0.01503979, ...,  0.04825449,\n",
       "         -0.08129665, -0.08489202],\n",
       "        [-0.00552824, -0.01158481, -0.00796684, ..., -0.04608177,\n",
       "          0.02312745,  0.08589666],\n",
       "        ...,\n",
       "        [ 0.03146037, -0.0804598 ,  0.02777927, ..., -0.01757755,\n",
       "         -0.07759001, -0.01962126],\n",
       "        [-0.01351912,  0.08457083, -0.05174892, ..., -0.04811703,\n",
       "         -0.01177375, -0.0638613 ],\n",
       "        [-0.04038578, -0.03264168,  0.03219466, ...,  0.07495377,\n",
       "         -0.08155108,  0.06141061]], dtype=float32),\n",
       " array([[0., 0., 0., ..., 0., 0., 0.],\n",
       "        [0., 0., 0., ..., 0., 0., 0.],\n",
       "        [0., 0., 0., ..., 0., 0., 0.],\n",
       "        ...,\n",
       "        [0., 0., 0., ..., 0., 0., 0.],\n",
       "        [0., 0., 0., ..., 0., 0., 0.],\n",
       "        [0., 0., 0., ..., 0., 0., 0.]], dtype=float32),\n",
       " array([[-0.02916129, -0.07986622,  0.04548316, ..., -0.07487211,\n",
       "         -0.03284347,  0.05870485],\n",
       "        [ 0.00195736,  0.07733414,  0.07524308, ...,  0.03544039,\n",
       "         -0.04979888,  0.00928986],\n",
       "        [-0.03980478, -0.0854222 ,  0.03388572, ..., -0.07491048,\n",
       "         -0.06931116, -0.08194836],\n",
       "        ...,\n",
       "        [-0.0236133 , -0.03578186,  0.06592085, ..., -0.06949455,\n",
       "          0.0438215 , -0.01483695],\n",
       "        [-0.01736848, -0.0533351 ,  0.08779855, ..., -0.0550714 ,\n",
       "          0.01039165,  0.08170989],\n",
       "        [-0.01969515,  0.00996956, -0.07509533, ...,  0.00241729,\n",
       "          0.03385752, -0.02337982]], dtype=float32),\n",
       " array([[0., 0., 0., ..., 0., 0., 0.],\n",
       "        [0., 0., 0., ..., 0., 0., 0.],\n",
       "        [0., 0., 0., ..., 0., 0., 0.],\n",
       "        ...,\n",
       "        [0., 0., 0., ..., 0., 0., 0.],\n",
       "        [0., 0., 0., ..., 0., 0., 0.],\n",
       "        [0., 0., 0., ..., 0., 0., 0.]], dtype=float32),\n",
       " array([[-0.0254023 ,  0.01781161, -0.02877825, ..., -0.00352346,\n",
       "          0.03589512, -0.02297472],\n",
       "        [-0.01906561,  0.01227047, -0.03243348, ..., -0.00229356,\n",
       "          0.02407327, -0.01345368],\n",
       "        [-0.01369483,  0.01114057,  0.01545401, ..., -0.00775321,\n",
       "         -0.0260928 ,  0.02073386],\n",
       "        ...,\n",
       "        [-0.0325572 ,  0.03448508,  0.04334087, ...,  0.01077918,\n",
       "         -0.00674776, -0.04021452],\n",
       "        [-0.01976928, -0.03774335,  0.024053  , ...,  0.0031205 ,\n",
       "         -0.0254275 , -0.02291472],\n",
       "        [-0.03528356, -0.02131962,  0.0043236 , ..., -0.03758206,\n",
       "         -0.02582092,  0.01390544]], dtype=float32),\n",
       " array([[0., 0., 0., ..., 0., 0., 0.],\n",
       "        [0., 0., 0., ..., 0., 0., 0.],\n",
       "        [0., 0., 0., ..., 0., 0., 0.],\n",
       "        ...,\n",
       "        [0., 0., 0., ..., 0., 0., 0.],\n",
       "        [0., 0., 0., ..., 0., 0., 0.],\n",
       "        [0., 0., 0., ..., 0., 0., 0.]], dtype=float32),\n",
       " array([[-0.06669864,  0.03760725, -0.00859396, ..., -0.05893106,\n",
       "          0.01115529,  0.02613429],\n",
       "        [ 0.05428567,  0.04247869,  0.01240132, ...,  0.07907242,\n",
       "         -0.06833056, -0.02001702],\n",
       "        [-0.02993223, -0.01450048, -0.07786693, ..., -0.05309897,\n",
       "         -0.0205726 ,  0.02034454],\n",
       "        ...,\n",
       "        [-0.04076964, -0.01123638, -0.049186  , ..., -0.0647496 ,\n",
       "          0.06971305,  0.03002375],\n",
       "        [-0.01645328,  0.03615037,  0.0701618 , ..., -0.00770531,\n",
       "         -0.04262929, -0.01273503],\n",
       "        [-0.04710184,  0.00926516,  0.02401172, ...,  0.0454671 ,\n",
       "         -0.05380742, -0.06379534]], dtype=float32),\n",
       " array([[0., 0., 0., ..., 0., 0., 0.],\n",
       "        [0., 0., 0., ..., 0., 0., 0.],\n",
       "        [0., 0., 0., ..., 0., 0., 0.],\n",
       "        ...,\n",
       "        [0., 0., 0., ..., 0., 0., 0.],\n",
       "        [0., 0., 0., ..., 0., 0., 0.],\n",
       "        [0., 0., 0., ..., 0., 0., 0.]], dtype=float32),\n",
       " array([[ 0.01312991, -0.08486269, -0.05882603, ..., -0.05522855,\n",
       "         -0.00967713,  0.04408519],\n",
       "        [ 0.0107887 ,  0.01921804, -0.02450595, ..., -0.06131732,\n",
       "         -0.05495605,  0.04696953],\n",
       "        [-0.01269009, -0.0879641 , -0.04404335, ..., -0.07805914,\n",
       "         -0.03245996,  0.02498248],\n",
       "        ...,\n",
       "        [-0.01863745, -0.05194513, -0.08682729, ...,  0.01209249,\n",
       "          0.03931214,  0.01907547],\n",
       "        [-0.05790088,  0.00720717, -0.08640238, ...,  0.08087049,\n",
       "          0.07920539,  0.01309781],\n",
       "        [ 0.07038218, -0.06991003, -0.06696017, ...,  0.04586324,\n",
       "          0.07074561,  0.08605742]], dtype=float32),\n",
       " array([[0., 0., 0., ..., 0., 0., 0.],\n",
       "        [0., 0., 0., ..., 0., 0., 0.],\n",
       "        [0., 0., 0., ..., 0., 0., 0.],\n",
       "        ...,\n",
       "        [0., 0., 0., ..., 0., 0., 0.],\n",
       "        [0., 0., 0., ..., 0., 0., 0.],\n",
       "        [0., 0., 0., ..., 0., 0., 0.]], dtype=float32),\n",
       " array([[-0.07980329,  0.06055911, -0.01686323, ..., -0.0208052 ,\n",
       "          0.02899992, -0.0733438 ],\n",
       "        [-0.08401206, -0.06227743,  0.04620345, ..., -0.05339369,\n",
       "         -0.06690388,  0.01652953],\n",
       "        [-0.0171911 , -0.06134929, -0.01868501, ...,  0.04363778,\n",
       "         -0.06737063,  0.0536378 ],\n",
       "        ...,\n",
       "        [-0.02041279,  0.00415686,  0.04948301, ..., -0.04943959,\n",
       "          0.02903294,  0.05530271],\n",
       "        [ 0.0093334 , -0.05176323,  0.01207392, ...,  0.0310464 ,\n",
       "         -0.083023  , -0.03237652],\n",
       "        [-0.02013558,  0.03725169,  0.0683139 , ..., -0.04841407,\n",
       "          0.07570355, -0.08827289]], dtype=float32),\n",
       " array([[0., 0., 0., ..., 0., 0., 0.],\n",
       "        [0., 0., 0., ..., 0., 0., 0.],\n",
       "        [0., 0., 0., ..., 0., 0., 0.],\n",
       "        ...,\n",
       "        [0., 0., 0., ..., 0., 0., 0.],\n",
       "        [0., 0., 0., ..., 0., 0., 0.],\n",
       "        [0., 0., 0., ..., 0., 0., 0.]], dtype=float32),\n",
       " array([[-0.02584936, -0.04109253,  0.02125694, ..., -0.03119846,\n",
       "         -0.02808242,  0.0125374 ],\n",
       "        [ 0.00154113, -0.03065802,  0.00671282, ...,  0.03155333,\n",
       "         -0.02414634,  0.03032534],\n",
       "        [-0.00271158,  0.02654137,  0.02704531, ..., -0.03708908,\n",
       "          0.01487657,  0.03406361],\n",
       "        ...,\n",
       "        [ 0.02827256, -0.02386785,  0.02150875, ...,  0.03137442,\n",
       "         -0.01350884,  0.03901991],\n",
       "        [-0.0170312 ,  0.02078179, -0.02431634, ..., -0.01531212,\n",
       "          0.00224893,  0.03980888],\n",
       "        [-0.03276013, -0.02746792, -0.03334628, ..., -0.01103023,\n",
       "          0.02677139,  0.04290439]], dtype=float32),\n",
       " array([[0., 0., 0., ..., 0., 0., 0.],\n",
       "        [0., 0., 0., ..., 0., 0., 0.],\n",
       "        [0., 0., 0., ..., 0., 0., 0.],\n",
       "        ...,\n",
       "        [0., 0., 0., ..., 0., 0., 0.],\n",
       "        [0., 0., 0., ..., 0., 0., 0.],\n",
       "        [0., 0., 0., ..., 0., 0., 0.]], dtype=float32),\n",
       " array([[ 4.6363957e-03, -8.6959399e-02, -5.9129320e-02, ...,\n",
       "         -7.4363217e-02,  7.0336938e-02, -2.7192809e-02],\n",
       "        [-7.6979354e-02,  5.3142212e-02,  2.0717494e-03, ...,\n",
       "         -2.4611862e-02,  5.4618418e-03,  8.6199775e-02],\n",
       "        [-5.4077905e-02, -5.8780387e-02,  2.4941461e-02, ...,\n",
       "          1.9773383e-02,  5.5445295e-02,  6.1480090e-02],\n",
       "        ...,\n",
       "        [-4.4321794e-02,  8.5212626e-02,  6.3458666e-02, ...,\n",
       "          1.4124104e-02, -6.7421325e-02,  2.3939189e-02],\n",
       "        [-5.2814711e-02, -8.0175035e-02, -2.8029509e-02, ...,\n",
       "          3.8653031e-02, -3.0812191e-02, -3.1652600e-03],\n",
       "        [ 3.6225785e-02, -7.1695030e-02, -7.6559751e-05, ...,\n",
       "          7.6886348e-02,  1.5322424e-02,  2.2595536e-02]], dtype=float32),\n",
       " array([[0., 0., 0., ..., 0., 0., 0.],\n",
       "        [0., 0., 0., ..., 0., 0., 0.],\n",
       "        [0., 0., 0., ..., 0., 0., 0.],\n",
       "        ...,\n",
       "        [0., 0., 0., ..., 0., 0., 0.],\n",
       "        [0., 0., 0., ..., 0., 0., 0.],\n",
       "        [0., 0., 0., ..., 0., 0., 0.]], dtype=float32),\n",
       " array([[-0.0300533 , -0.03596523, -0.08030269, ..., -0.07340197,\n",
       "         -0.04601361,  0.07180092],\n",
       "        [ 0.06943106,  0.04597763,  0.07656099, ...,  0.05504023,\n",
       "         -0.03599828,  0.00539805],\n",
       "        [-0.02542803, -0.01968706,  0.06179363, ...,  0.02180113,\n",
       "          0.00052732,  0.08089137],\n",
       "        ...,\n",
       "        [ 0.01509385, -0.05998292,  0.07839134, ..., -0.06221507,\n",
       "         -0.05798241, -0.07789851],\n",
       "        [ 0.01157944, -0.0750751 ,  0.01707832, ...,  0.07794994,\n",
       "          0.02793179, -0.03985467],\n",
       "        [ 0.02707436, -0.04207818, -0.06005186, ...,  0.06119499,\n",
       "          0.04356756, -0.00863465]], dtype=float32),\n",
       " array([[0., 0., 0., ..., 0., 0., 0.],\n",
       "        [0., 0., 0., ..., 0., 0., 0.],\n",
       "        [0., 0., 0., ..., 0., 0., 0.],\n",
       "        ...,\n",
       "        [0., 0., 0., ..., 0., 0., 0.],\n",
       "        [0., 0., 0., ..., 0., 0., 0.],\n",
       "        [0., 0., 0., ..., 0., 0., 0.]], dtype=float32),\n",
       " array([[ 0.07777762,  0.06663655,  0.01526967, ...,  0.05914234,\n",
       "          0.03063959,  0.01975167],\n",
       "        [ 0.02927797,  0.07360714, -0.07667309, ...,  0.07806049,\n",
       "         -0.04973642,  0.05592812],\n",
       "        [-0.073658  ,  0.05141664, -0.00339196, ..., -0.07672897,\n",
       "          0.02776517, -0.07598795],\n",
       "        ...,\n",
       "        [-0.00328908,  0.01601865,  0.07120997, ..., -0.05078652,\n",
       "          0.03954927,  0.06060625],\n",
       "        [ 0.08791628,  0.02438704,  0.03511601, ...,  0.00368082,\n",
       "         -0.07070083,  0.01974715],\n",
       "        [-0.03062238, -0.03826039,  0.05245749, ...,  0.06864067,\n",
       "         -0.0793864 ,  0.08426924]], dtype=float32),\n",
       " array([[0., 0., 0., ..., 0., 0., 0.],\n",
       "        [0., 0., 0., ..., 0., 0., 0.],\n",
       "        [0., 0., 0., ..., 0., 0., 0.],\n",
       "        ...,\n",
       "        [0., 0., 0., ..., 0., 0., 0.],\n",
       "        [0., 0., 0., ..., 0., 0., 0.],\n",
       "        [0., 0., 0., ..., 0., 0., 0.]], dtype=float32),\n",
       " array([[ 0.03849208,  0.01353232, -0.01416639, ..., -0.03593754,\n",
       "         -0.03506429,  0.0432175 ],\n",
       "        [ 0.00061001,  0.04023462, -0.01133465, ..., -0.02540396,\n",
       "         -0.04246743,  0.01283595],\n",
       "        [ 0.03143392, -0.03447068,  0.04305493, ...,  0.00441011,\n",
       "          0.01042436, -0.03798185],\n",
       "        ...,\n",
       "        [-0.00213098, -0.0185511 ,  0.00542633, ...,  0.03581791,\n",
       "          0.03333789,  0.00878237],\n",
       "        [ 0.00835737, -0.01211777,  0.03809353, ..., -0.02048551,\n",
       "          0.00565893,  0.02457845],\n",
       "        [ 0.04395803, -0.04392674,  0.03475393, ..., -0.02675595,\n",
       "          0.02980713, -0.01357739]], dtype=float32),\n",
       " array([[0., 0., 0., ..., 0., 0., 0.],\n",
       "        [0., 0., 0., ..., 0., 0., 0.],\n",
       "        [0., 0., 0., ..., 0., 0., 0.],\n",
       "        ...,\n",
       "        [0., 0., 0., ..., 0., 0., 0.],\n",
       "        [0., 0., 0., ..., 0., 0., 0.],\n",
       "        [0., 0., 0., ..., 0., 0., 0.]], dtype=float32)]"
      ]
     },
     "execution_count": 141,
     "metadata": {},
     "output_type": "execute_result"
    }
   ],
   "source": [
    "def get_peft_model_parameters(model):\n",
    "    \"\"\"Obtiene SOLO los parámetros adaptadores LoRA\"\"\"\n",
    "    from peft import get_peft_model_state_dict\n",
    "    \n",
    "    peft_state_dict = get_peft_model_state_dict(model)\n",
    "    return [val.cpu().numpy() for _, val in peft_state_dict.items()]\n",
    "\n",
    "get_peft_model_parameters(student_model)"
   ]
  },
  {
   "cell_type": "markdown",
   "id": "4c2c2c62",
   "metadata": {},
   "source": [
    "* Run the fine-tuned model. "
   ]
  },
  {
   "cell_type": "code",
   "execution_count": 24,
   "id": "c5480e6d-4054-4e87-a228-adf4021d36e1",
   "metadata": {
    "height": 47
   },
   "outputs": [],
   "source": [
    "# Load the checkpoint\n",
    "llm_eval = LLM_fl()"
   ]
  },
  {
   "cell_type": "code",
   "execution_count": 25,
   "id": "997a3ef5-c206-44cd-bf28-520070872426",
   "metadata": {
    "height": 115
   },
   "outputs": [],
   "source": [
    "# Load dataset\n",
    "train_dataset = load_dataset(cfg.dataset.name, split='train')\n",
    "train_dataset = format_dataset(train_dataset)\n",
    "\n",
    "# Select training example\n",
    "example_index = 6"
   ]
  },
  {
   "cell_type": "code",
   "execution_count": 26,
   "id": "493a4d5a-a36f-46b9-abc7-510e802b0e43",
   "metadata": {
    "height": 30
   },
   "outputs": [],
   "source": [
    "data_point = train_dataset[example_index]"
   ]
  },
  {
   "cell_type": "code",
   "execution_count": 27,
   "id": "fe30e12e",
   "metadata": {},
   "outputs": [],
   "source": [
    "import fireworks.client\n",
    "\n",
    "# Set your API key here\n",
    "fireworks.client.api_key = \"fw_3ZiSsoqQLtuo7Ld3v6xAZzvg\""
   ]
  },
  {
   "cell_type": "code",
   "execution_count": 28,
   "id": "e0c41361",
   "metadata": {},
   "outputs": [
    {
     "data": {
      "text/plain": [
       "'What are the possible causes of low glucose and high C-peptide levels?'"
      ]
     },
     "execution_count": 28,
     "metadata": {},
     "output_type": "execute_result"
    }
   ],
   "source": [
    "data_point['instruction']"
   ]
  },
  {
   "cell_type": "code",
   "execution_count": 29,
   "id": "4b2610f9-fa1c-4165-b6d5-0956132d4735",
   "metadata": {
    "height": 47
   },
   "outputs": [
    {
     "name": "stdout",
     "output_type": "stream",
     "text": [
      "Prompt:\n",
      "\tWhat are the possible causes of low glucose and\n",
      "\thigh C-peptide levels?\n"
     ]
    },
    {
     "ename": "InvalidRequestError",
     "evalue": "{'error': 'Model not found, inaccessible, and/or not deployed'}",
     "output_type": "error",
     "traceback": [
      "\u001b[0;31m---------------------------------------------------------------------------\u001b[0m",
      "\u001b[0;31mInvalidRequestError\u001b[0m                       Traceback (most recent call last)",
      "Cell \u001b[0;32mIn[29], line 2\u001b[0m\n\u001b[1;32m      1\u001b[0m \u001b[38;5;66;03m# Print the prompt\u001b[39;00m\n\u001b[0;32m----> 2\u001b[0m \u001b[43mllm_eval\u001b[49m\u001b[38;5;241;43m.\u001b[39;49m\u001b[43meval\u001b[49m\u001b[43m(\u001b[49m\u001b[43mdata_point\u001b[49m\u001b[43m[\u001b[49m\u001b[38;5;124;43m'\u001b[39;49m\u001b[38;5;124;43minstruction\u001b[39;49m\u001b[38;5;124;43m'\u001b[39;49m\u001b[43m]\u001b[49m\u001b[43m,\u001b[49m\u001b[43m \u001b[49m\u001b[43mverbose\u001b[49m\u001b[38;5;241;43m=\u001b[39;49m\u001b[38;5;28;43;01mTrue\u001b[39;49;00m\u001b[43m)\u001b[49m\n",
      "File \u001b[0;32m/home/msc2024/ra214616/ra214616_files/flower_tutorial/L3_Federated_LLM_Fine-tuning/utils_fl/LLM.py:35\u001b[0m, in \u001b[0;36mLLM_eval.eval\u001b[0;34m(self, prompt, log_probs, verbose, top_k)\u001b[0m\n\u001b[1;32m     33\u001b[0m     to_print \u001b[38;5;241m=\u001b[39m textwrap\u001b[38;5;241m.\u001b[39mfill(prompt, \u001b[38;5;241m50\u001b[39m, subsequent_indent\u001b[38;5;241m=\u001b[39m\u001b[38;5;124m\"\u001b[39m\u001b[38;5;130;01m\\t\u001b[39;00m\u001b[38;5;124m\"\u001b[39m)\n\u001b[1;32m     34\u001b[0m     \u001b[38;5;28mprint\u001b[39m(\u001b[38;5;124mf\u001b[39m\u001b[38;5;124m'\u001b[39m\u001b[38;5;124mPrompt:\u001b[39m\u001b[38;5;130;01m\\n\u001b[39;00m\u001b[38;5;130;01m\\t\u001b[39;00m\u001b[38;5;132;01m{\u001b[39;00mto_print\u001b[38;5;132;01m}\u001b[39;00m\u001b[38;5;124m'\u001b[39m)\n\u001b[0;32m---> 35\u001b[0m \u001b[38;5;28mself\u001b[39m\u001b[38;5;241m.\u001b[39mresponse \u001b[38;5;241m=\u001b[39m \u001b[43mfireworks\u001b[49m\u001b[38;5;241;43m.\u001b[39;49m\u001b[43mclient\u001b[49m\u001b[38;5;241;43m.\u001b[39;49m\u001b[43mCompletion\u001b[49m\u001b[38;5;241;43m.\u001b[39;49m\u001b[43mcreate\u001b[49m\u001b[43m(\u001b[49m\n\u001b[1;32m     36\u001b[0m \u001b[43m    \u001b[49m\u001b[43mmodel\u001b[49m\u001b[38;5;241;43m=\u001b[39;49m\u001b[38;5;28;43mself\u001b[39;49m\u001b[38;5;241;43m.\u001b[39;49m\u001b[43mmodel\u001b[49m\u001b[43m,\u001b[49m\n\u001b[1;32m     37\u001b[0m \u001b[43m    \u001b[49m\u001b[43mprompt\u001b[49m\u001b[38;5;241;43m=\u001b[39;49m\u001b[43mprompt\u001b[49m\u001b[43m,\u001b[49m\n\u001b[1;32m     38\u001b[0m \u001b[43m    \u001b[49m\u001b[43mecho\u001b[49m\u001b[43m \u001b[49m\u001b[38;5;241;43m=\u001b[39;49m\u001b[43m \u001b[49m\u001b[43mlog_probs\u001b[49m\u001b[43m,\u001b[49m\n\u001b[1;32m     39\u001b[0m \u001b[43m    \u001b[49m\u001b[43mmax_tokens\u001b[49m\u001b[38;5;241;43m=\u001b[39;49m\u001b[38;5;241;43m0\u001b[39;49m\u001b[43m \u001b[49m\u001b[38;5;28;43;01mif\u001b[39;49;00m\u001b[43m \u001b[49m\u001b[43mlog_probs\u001b[49m\u001b[43m \u001b[49m\u001b[38;5;28;43;01melse\u001b[39;49;00m\u001b[43m \u001b[49m\u001b[38;5;241;43m80\u001b[39;49m\u001b[43m,\u001b[49m\n\u001b[1;32m     40\u001b[0m \u001b[43m    \u001b[49m\u001b[43mtemperature\u001b[49m\u001b[38;5;241;43m=\u001b[39;49m\u001b[38;5;28;43mself\u001b[39;49m\u001b[38;5;241;43m.\u001b[39;49m\u001b[43mtemp\u001b[49m\u001b[43m,\u001b[49m\n\u001b[1;32m     41\u001b[0m \u001b[43m    \u001b[49m\u001b[43mlogprobs\u001b[49m\u001b[38;5;241;43m=\u001b[39;49m\u001b[43m \u001b[49m\u001b[38;5;241;43m0\u001b[39;49m\u001b[43m,\u001b[49m\n\u001b[1;32m     42\u001b[0m \u001b[43m    \u001b[49m\u001b[43mtop_k\u001b[49m\u001b[43m \u001b[49m\u001b[38;5;241;43m=\u001b[39;49m\u001b[43m \u001b[49m\u001b[38;5;241;43m5\u001b[39;49m\u001b[43m \u001b[49m\u001b[38;5;28;43;01mif\u001b[39;49;00m\u001b[43m \u001b[49m\u001b[43mtop_k\u001b[49m\u001b[43m \u001b[49m\u001b[38;5;28;43;01melse\u001b[39;49;00m\u001b[43m \u001b[49m\u001b[38;5;28;43;01mNone\u001b[39;49;00m\n\u001b[1;32m     43\u001b[0m \u001b[43m\u001b[49m\u001b[43m)\u001b[49m\n",
      "File \u001b[0;32m/home/msc2024/ra214616/ra214616_files/flower_tutorial/L3_Federated_LLM_Fine-tuning/env_l3/lib/python3.10/site-packages/fireworks/client/base_completion.py:76\u001b[0m, in \u001b[0;36mBaseCompletion.create\u001b[0;34m(cls, model, prompt_or_messages, request_timeout, stream, client, **kwargs)\u001b[0m\n\u001b[1;32m     72\u001b[0m     \u001b[38;5;28;01mreturn\u001b[39;00m \u001b[38;5;28mcls\u001b[39m\u001b[38;5;241m.\u001b[39m_create_streaming(\n\u001b[1;32m     73\u001b[0m         model, request_timeout, client\u001b[38;5;241m=\u001b[39mclient, \u001b[38;5;241m*\u001b[39m\u001b[38;5;241m*\u001b[39mkwargs\n\u001b[1;32m     74\u001b[0m     )\n\u001b[1;32m     75\u001b[0m \u001b[38;5;28;01melse\u001b[39;00m:\n\u001b[0;32m---> 76\u001b[0m     \u001b[38;5;28;01mreturn\u001b[39;00m \u001b[38;5;28;43mcls\u001b[39;49m\u001b[38;5;241;43m.\u001b[39;49m\u001b[43m_create_non_streaming\u001b[49m\u001b[43m(\u001b[49m\n\u001b[1;32m     77\u001b[0m \u001b[43m        \u001b[49m\u001b[43mmodel\u001b[49m\u001b[43m,\u001b[49m\u001b[43m \u001b[49m\u001b[43mrequest_timeout\u001b[49m\u001b[43m,\u001b[49m\u001b[43m \u001b[49m\u001b[43mclient\u001b[49m\u001b[38;5;241;43m=\u001b[39;49m\u001b[43mclient\u001b[49m\u001b[43m,\u001b[49m\u001b[43m \u001b[49m\u001b[38;5;241;43m*\u001b[39;49m\u001b[38;5;241;43m*\u001b[39;49m\u001b[43mkwargs\u001b[49m\n\u001b[1;32m     78\u001b[0m \u001b[43m    \u001b[49m\u001b[43m)\u001b[49m\n",
      "File \u001b[0;32m/home/msc2024/ra214616/ra214616_files/flower_tutorial/L3_Federated_LLM_Fine-tuning/env_l3/lib/python3.10/site-packages/fireworks/client/base_completion.py:158\u001b[0m, in \u001b[0;36mBaseCompletion._create_non_streaming\u001b[0;34m(cls, model, request_timeout, client, **kwargs)\u001b[0m\n\u001b[1;32m    156\u001b[0m client \u001b[38;5;241m=\u001b[39m client \u001b[38;5;129;01mor\u001b[39;00m FireworksClient(request_timeout\u001b[38;5;241m=\u001b[39mrequest_timeout)\n\u001b[1;32m    157\u001b[0m data \u001b[38;5;241m=\u001b[39m {\u001b[38;5;124m\"\u001b[39m\u001b[38;5;124mmodel\u001b[39m\u001b[38;5;124m\"\u001b[39m: model, \u001b[38;5;124m\"\u001b[39m\u001b[38;5;124mstream\u001b[39m\u001b[38;5;124m\"\u001b[39m: \u001b[38;5;28;01mFalse\u001b[39;00m, \u001b[38;5;241m*\u001b[39m\u001b[38;5;241m*\u001b[39mkwargs}\n\u001b[0;32m--> 158\u001b[0m response \u001b[38;5;241m=\u001b[39m \u001b[43mclient\u001b[49m\u001b[38;5;241;43m.\u001b[39;49m\u001b[43mpost_request_non_streaming\u001b[49m\u001b[43m(\u001b[49m\n\u001b[1;32m    159\u001b[0m \u001b[43m    \u001b[49m\u001b[38;5;124;43mf\u001b[39;49m\u001b[38;5;124;43m\"\u001b[39;49m\u001b[38;5;132;43;01m{\u001b[39;49;00m\u001b[43mclient\u001b[49m\u001b[38;5;241;43m.\u001b[39;49m\u001b[43mbase_url\u001b[49m\u001b[38;5;132;43;01m}\u001b[39;49;00m\u001b[38;5;124;43m/\u001b[39;49m\u001b[38;5;132;43;01m{\u001b[39;49;00m\u001b[38;5;28;43mcls\u001b[39;49m\u001b[38;5;241;43m.\u001b[39;49m\u001b[43mendpoint\u001b[49m\u001b[38;5;132;43;01m}\u001b[39;49;00m\u001b[38;5;124;43m\"\u001b[39;49m\u001b[43m,\u001b[49m\u001b[43m \u001b[49m\u001b[43mdata\u001b[49m\u001b[38;5;241;43m=\u001b[39;49m\u001b[43mdata\u001b[49m\n\u001b[1;32m    160\u001b[0m \u001b[43m\u001b[49m\u001b[43m)\u001b[49m\n\u001b[1;32m    161\u001b[0m \u001b[38;5;28;01mreturn\u001b[39;00m \u001b[38;5;28mcls\u001b[39m\u001b[38;5;241m.\u001b[39mresponse_class(\u001b[38;5;241m*\u001b[39m\u001b[38;5;241m*\u001b[39mresponse)\n",
      "File \u001b[0;32m/home/msc2024/ra214616/ra214616_files/flower_tutorial/L3_Federated_LLM_Fine-tuning/env_l3/lib/python3.10/site-packages/fireworks/client/api_client.py:131\u001b[0m, in \u001b[0;36mFireworksClient.post_request_non_streaming\u001b[0;34m(self, url, data)\u001b[0m\n\u001b[1;32m    127\u001b[0m \u001b[38;5;28;01mdef\u001b[39;00m\u001b[38;5;250m \u001b[39m\u001b[38;5;21mpost_request_non_streaming\u001b[39m(\n\u001b[1;32m    128\u001b[0m     \u001b[38;5;28mself\u001b[39m, url: \u001b[38;5;28mstr\u001b[39m, data: Optional[Dict[\u001b[38;5;28mstr\u001b[39m, Any]] \u001b[38;5;241m=\u001b[39m \u001b[38;5;28;01mNone\u001b[39;00m\n\u001b[1;32m    129\u001b[0m ) \u001b[38;5;241m-\u001b[39m\u001b[38;5;241m>\u001b[39m Dict[\u001b[38;5;28mstr\u001b[39m, Any]:\n\u001b[1;32m    130\u001b[0m     response \u001b[38;5;241m=\u001b[39m \u001b[38;5;28mself\u001b[39m\u001b[38;5;241m.\u001b[39m_client\u001b[38;5;241m.\u001b[39mpost(url, json\u001b[38;5;241m=\u001b[39mdata)\n\u001b[0;32m--> 131\u001b[0m     \u001b[38;5;28;43mself\u001b[39;49m\u001b[38;5;241;43m.\u001b[39;49m\u001b[43m_error_handling\u001b[49m\u001b[43m(\u001b[49m\u001b[43mresponse\u001b[49m\u001b[43m)\u001b[49m\n\u001b[1;32m    132\u001b[0m     \u001b[38;5;28;01mreturn\u001b[39;00m response\u001b[38;5;241m.\u001b[39mjson()\n",
      "File \u001b[0;32m/home/msc2024/ra214616/ra214616_files/flower_tutorial/L3_Federated_LLM_Fine-tuning/env_l3/lib/python3.10/site-packages/fireworks/client/api_client.py:112\u001b[0m, in \u001b[0;36mFireworksClient._error_handling\u001b[0;34m(self, resp)\u001b[0m\n\u001b[1;32m    110\u001b[0m \u001b[38;5;28;01mif\u001b[39;00m resp\u001b[38;5;241m.\u001b[39mis_error:\n\u001b[1;32m    111\u001b[0m     resp\u001b[38;5;241m.\u001b[39mread()\n\u001b[0;32m--> 112\u001b[0m \u001b[38;5;28;43mself\u001b[39;49m\u001b[38;5;241;43m.\u001b[39;49m\u001b[43m_raise_for_status\u001b[49m\u001b[43m(\u001b[49m\u001b[43mresp\u001b[49m\u001b[43m)\u001b[49m\n",
      "File \u001b[0;32m/home/msc2024/ra214616/ra214616_files/flower_tutorial/L3_Federated_LLM_Fine-tuning/env_l3/lib/python3.10/site-packages/fireworks/client/api_client.py:90\u001b[0m, in \u001b[0;36mFireworksClient._raise_for_status\u001b[0;34m(self, resp)\u001b[0m\n\u001b[1;32m     88\u001b[0m     \u001b[38;5;28;01mraise\u001b[39;00m \u001b[38;5;167;01mPermissionError\u001b[39;00m(get_error_message(resp))\n\u001b[1;32m     89\u001b[0m \u001b[38;5;28;01melif\u001b[39;00m resp\u001b[38;5;241m.\u001b[39mstatus_code \u001b[38;5;241m==\u001b[39m \u001b[38;5;241m404\u001b[39m:\n\u001b[0;32m---> 90\u001b[0m     \u001b[38;5;28;01mraise\u001b[39;00m InvalidRequestError(get_error_message(resp))\n\u001b[1;32m     91\u001b[0m \u001b[38;5;28;01melif\u001b[39;00m resp\u001b[38;5;241m.\u001b[39mstatus_code \u001b[38;5;241m==\u001b[39m \u001b[38;5;241m429\u001b[39m:\n\u001b[1;32m     92\u001b[0m     \u001b[38;5;28;01mraise\u001b[39;00m RateLimitError(get_error_message(resp))\n",
      "\u001b[0;31mInvalidRequestError\u001b[0m: {'error': 'Model not found, inaccessible, and/or not deployed'}"
     ]
    }
   ],
   "source": [
    "# Print the prompt\n",
    "llm_eval.eval(data_point['instruction'], verbose=True)"
   ]
  },
  {
   "cell_type": "code",
   "execution_count": 30,
   "id": "e829faf4-0aa1-4387-84be-c6c69f100673",
   "metadata": {
    "height": 47
   },
   "outputs": [
    {
     "ename": "AttributeError",
     "evalue": "'NoneType' object has no attribute 'choices'",
     "output_type": "error",
     "traceback": [
      "\u001b[0;31m---------------------------------------------------------------------------\u001b[0m",
      "\u001b[0;31mAttributeError\u001b[0m                            Traceback (most recent call last)",
      "Cell \u001b[0;32mIn[30], line 2\u001b[0m\n\u001b[1;32m      1\u001b[0m \u001b[38;5;66;03m# Print the fine-tuned LLM response\u001b[39;00m\n\u001b[0;32m----> 2\u001b[0m \u001b[43mllm_eval\u001b[49m\u001b[38;5;241;43m.\u001b[39;49m\u001b[43mprint_response\u001b[49m\u001b[43m(\u001b[49m\u001b[43m)\u001b[49m\n",
      "File \u001b[0;32m/home/msc2024/ra214616/ra214616_files/flower_tutorial/L3_Federated_LLM_Fine-tuning/utils_fl/LLM.py:56\u001b[0m, in \u001b[0;36mLLM_eval.print_response\u001b[0;34m(self, char_width, verbose)\u001b[0m\n\u001b[1;32m     54\u001b[0m \u001b[38;5;28;01mdef\u001b[39;00m\u001b[38;5;250m \u001b[39m\u001b[38;5;21mprint_response\u001b[39m(\u001b[38;5;28mself\u001b[39m, char_width: \u001b[38;5;28mint\u001b[39m \u001b[38;5;241m=\u001b[39m \u001b[38;5;241m50\u001b[39m, verbose: \u001b[38;5;28mbool\u001b[39m\u001b[38;5;241m=\u001b[39m\u001b[38;5;28;01mTrue\u001b[39;00m) \u001b[38;5;241m-\u001b[39m\u001b[38;5;241m>\u001b[39m \u001b[38;5;28;01mNone\u001b[39;00m:\n\u001b[0;32m---> 56\u001b[0m     response \u001b[38;5;241m=\u001b[39m \u001b[38;5;28;43mself\u001b[39;49m\u001b[38;5;241;43m.\u001b[39;49m\u001b[43mresponse\u001b[49m\u001b[38;5;241;43m.\u001b[39;49m\u001b[43mchoices\u001b[49m[\u001b[38;5;241m0\u001b[39m]\u001b[38;5;241m.\u001b[39mtext\u001b[38;5;241m.\u001b[39mstrip()\n\u001b[1;32m     57\u001b[0m     to_print \u001b[38;5;241m=\u001b[39m textwrap\u001b[38;5;241m.\u001b[39mfill(response, char_width, subsequent_indent\u001b[38;5;241m=\u001b[39m\u001b[38;5;124m\"\u001b[39m\u001b[38;5;130;01m\\t\u001b[39;00m\u001b[38;5;124m\"\u001b[39m)\n\u001b[1;32m     58\u001b[0m     \u001b[38;5;28;01mif\u001b[39;00m verbose:\n",
      "\u001b[0;31mAttributeError\u001b[0m: 'NoneType' object has no attribute 'choices'"
     ]
    }
   ],
   "source": [
    "# Print the fine-tuned LLM response\n",
    "llm_eval.print_response()"
   ]
  },
  {
   "cell_type": "code",
   "execution_count": 31,
   "id": "0613d446-432b-4669-94bb-49618e7d1582",
   "metadata": {
    "height": 64
   },
   "outputs": [
    {
     "name": "stdout",
     "output_type": "stream",
     "text": [
      "Expected output:\n",
      "\tLow glucose and high C-peptide levels can be\n",
      "\tcaused by an insulinoma or the use of\n",
      "\tsulfonylurea drugs.\n"
     ]
    }
   ],
   "source": [
    "# Print the expected output from the medAlpaca dataset\n",
    "ex_response = format_string(data_point['response'])\n",
    "print(f\"Expected output:\\n\\t{ex_response}\")"
   ]
  },
  {
   "cell_type": "markdown",
   "id": "93800704",
   "metadata": {},
   "source": [
    "#### 5. Visualize results"
   ]
  },
  {
   "cell_type": "code",
   "execution_count": 32,
   "id": "72abebc1-62f4-498c-b75b-89c03d6a10e1",
   "metadata": {
    "height": 47
   },
   "outputs": [
    {
     "data": {
      "image/png": "[encoded data removed]",
      "text/plain": [
       "<Figure size 600x400 with 1 Axes>"
      ]
     },
     "metadata": {},
     "output_type": "display_data"
    }
   ],
   "source": [
    "visualize_results(\n",
    "    results=['7b/pretrained', '7b/cen_10', '7b/fl'])"
   ]
  },
  {
   "cell_type": "markdown",
   "id": "308d46bd",
   "metadata": {},
   "source": [
    "* See the results if you would provide the same amount of data to the centralized finetuned-model."
   ]
  },
  {
   "cell_type": "code",
   "execution_count": 18,
   "id": "fccaae95-4bab-48b7-be16-eb4937230156",
   "metadata": {
    "height": 81
   },
   "outputs": [
    {
     "data": {
      "image/png": "[encoded data removed]",
      "text/plain": [
       "<Figure size 600x400 with 1 Axes>"
      ]
     },
     "metadata": {},
     "output_type": "display_data"
    }
   ],
   "source": [
    "visualize_results(\n",
    "    results=['7b/pretrained', '7b/cen_10',\n",
    "             '7b/cen_full', '7b/fl'],\n",
    "    compact=True)"
   ]
  },
  {
   "cell_type": "markdown",
   "id": "ac7d077a",
   "metadata": {},
   "source": [
    "#### 6. One more analysis"
   ]
  },
  {
   "cell_type": "markdown",
   "id": "882aeaab",
   "metadata": {},
   "source": [
    "* Compute communication costs."
   ]
  },
  {
   "cell_type": "code",
   "execution_count": 33,
   "id": "58226386-759c-4a24-8876-5855ea177c35",
   "metadata": {
    "height": 64
   },
   "outputs": [
    {
     "name": "stdout",
     "output_type": "stream",
     "text": [
      "Full model:\n",
      "\t70.623 M parameters\n",
      "\t269.41 MB --> upload in 107.76s @ 20Mbps\n",
      "Finetuned model:\n",
      "\t0.197 M parameters\n",
      "\t0.75 MB --> upload in 0.30s @ 20Mbps\n",
      "Federated Learning setting: \n",
      "\tNumber of rounds: 2\n",
      "\tNumber of clients per round: 4\n",
      "-----------------------------------------------\n",
      "Total Communication costs (Full model): 4.2 GB\n",
      "Total Communication costs (Finetuning): 12.0 MB\n",
      "Communication savings: 359.2x\n"
     ]
    }
   ],
   "source": [
    "cfg = get_config(\"federated\")\n",
    "\n",
    "compute_communication_costs(cfg, comm_bw_mbps=20)"
   ]
  }
 ],
 "metadata": {
  "kernelspec": {
   "display_name": "env_l3",
   "language": "python",
   "name": "python3"
  },
  "language_info": {
   "codemirror_mode": {
    "name": "ipython",
    "version": 3
   },
   "file_extension": ".py",
   "mimetype": "text/x-python",
   "name": "python",
   "nbconvert_exporter": "python",
   "pygments_lexer": "ipython3",
   "version": "3.10.12"
  }
 },
 "nbformat": 4,
 "nbformat_minor": 5
}
